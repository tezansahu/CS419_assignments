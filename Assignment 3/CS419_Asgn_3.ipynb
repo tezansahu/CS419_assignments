{
  "nbformat": 4,
  "nbformat_minor": 0,
  "metadata": {
    "colab": {
      "name": "CS419 Asgn 3.ipynb",
      "provenance": [],
      "collapsed_sections": []
    },
    "kernelspec": {
      "name": "python3",
      "display_name": "Python 3"
    },
    "accelerator": "GPU"
  },
  "cells": [
    {
      "cell_type": "code",
      "metadata": {
        "id": "H3YlzpFJNZIP",
        "colab": {
          "base_uri": "https://localhost:8080/",
          "height": 34
        },
        "outputId": "333f448d-30b3-4422-a7bc-a00a4ddc505e"
      },
      "source": [
        "%pylab inline\n",
        "!pip install -q librosa"
      ],
      "execution_count": null,
      "outputs": [
        {
          "output_type": "stream",
          "text": [
            "Populating the interactive namespace from numpy and matplotlib\n"
          ],
          "name": "stdout"
        }
      ]
    },
    {
      "cell_type": "code",
      "metadata": {
        "id": "idAGPitbVU3f",
        "colab": {
          "base_uri": "https://localhost:8080/",
          "height": 54
        },
        "outputId": "d2570d55-3d84-46eb-ccef-3d094886b021"
      },
      "source": [
        "# Load the Drive helper and mount\n",
        "from google.colab import drive\n",
        "\n",
        "# This will prompt for authorization.\n",
        "drive.mount('/content/drive')"
      ],
      "execution_count": null,
      "outputs": [
        {
          "output_type": "stream",
          "text": [
            "Drive already mounted at /content/drive; to attempt to forcibly remount, call drive.mount(\"/content/drive\", force_remount=True).\n"
          ],
          "name": "stdout"
        }
      ]
    },
    {
      "cell_type": "code",
      "metadata": {
        "id": "kwhuY4Sf4TCc"
      },
      "source": [
        "import os\n",
        "os.chdir(\"/content/drive/My Drive/\")"
      ],
      "execution_count": null,
      "outputs": []
    },
    {
      "cell_type": "code",
      "metadata": {
        "id": "cdPBoxApXJYF"
      },
      "source": [
        "import numpy as np\n",
        "import tensorflow as tf\n",
        "import math\n",
        "import matplotlib.pyplot as plt"
      ],
      "execution_count": null,
      "outputs": []
    },
    {
      "cell_type": "markdown",
      "metadata": {
        "id": "4GQ9aWUZEP3n"
      },
      "source": [
        "**MNIST Dataset**"
      ]
    },
    {
      "cell_type": "code",
      "metadata": {
        "id": "KHLbEPcpXJbt",
        "colab": {
          "base_uri": "https://localhost:8080/",
          "height": 54
        },
        "outputId": "35db4a8c-622b-403a-b183-7e22a22994e0"
      },
      "source": [
        "# include any other imports that you want\n",
        "\n",
        "'''\n",
        "This file contains a class for you to implement your neural net.\n",
        "Basic function skeleton is given, and some comments to guide you are also there.\n",
        "\n",
        "You will find it convenient to look at the tensorflow API to understand what functions to use.\n",
        "'''\n",
        "\n",
        "'''\n",
        "Implement the respective functions in this class\n",
        "You might also make separate classes for separate tasks , or for separate kinds of networks (normal feed-forward / CNNs)\n",
        "'''\n",
        "class myNeuralNet:\n",
        "\t# you can add/modify arguments of *ALL* functions\n",
        "\t# you might also add new functions, but *NOT* remove these ones\n",
        "  def __init__(self, dim_input_data, dim_output_data): # you can add/modify arguments of this function \n",
        "\t\t# Using such 'self-ization', you can access these members in later functions of the class\n",
        "\t\t# You can do such 'self-ization' on tensors also, there is no change\n",
        "    self.dim_input_data = dim_input_data\n",
        "    self.dim_output_data = dim_output_data\n",
        "    self.in_dim_for_next_layer=dim_input_data\n",
        "    self.num_layers = 0\n",
        "\t\t# Create placeholders for input : data as well as labels\n",
        "\t\t# You might want to initialising some container to store all the layers of the network\n",
        "    self.trainX=tf.placeholder(tf.float32, [None, dim_input_data], name=\"input_features\")\n",
        "    self.trainY=tf.placeholder(tf.float32, [None, dim_output_data], name=\"output_labels\")\n",
        "    self.weights={}\n",
        "    self.biases={}\n",
        "    self.regularizer=0\n",
        "    self.y={}\n",
        "    \n",
        "  def addHiddenLayer(self, layer_dim, activation_fn=None, regularizer_fn=None, regularizer_wgt=0):\n",
        "\t\t# Add a layer to the network of layer_dim\n",
        "\t\t# It might be a good idea to append the new layer to the container of layers that you initialized before\n",
        "    \n",
        "    self.num_layers += 1\n",
        "    \n",
        "    self.weights['h'+str(self.num_layers)] = tf.Variable(tf.truncated_normal([self.in_dim_for_next_layer, layer_dim], mean=0, stddev=1 / np.sqrt(self.in_dim_for_next_layer)))\n",
        "    self.biases['b'+str(self.num_layers)] = tf.Variable(tf.truncated_normal([layer_dim],mean=0, stddev=1 / np.sqrt(self.in_dim_for_next_layer)))\n",
        "    if regularizer_fn != None:\n",
        "      self.regularizer += regularizer_wgt*regularizer_fn(self.weights['h'+str(self.num_layers)])\n",
        "    if self.num_layers == 1:\n",
        "      self.y['y'+str(self.num_layers)] = activation_fn(tf.matmul(self.trainX, self.weights['h' + str(self.num_layers)]) + self.biases['b'+str(self.num_layers)])\n",
        "    else:\n",
        "      self.y['y'+str(self.num_layers)] = activation_fn(tf.matmul(self.y['y'+str(self.num_layers - 1)], self.weights['h' + str(self.num_layers)]) + self.biases['b'+str(self.num_layers)])\n",
        "    \n",
        "    self.in_dim_for_next_layer = layer_dim\n",
        "\n",
        "  def addFinalLayer(self, activation_fn=None, regularizer_fn=None, regularizer_wgt=0):\n",
        "\t\t# We don't take layer_dim here, since the dimensionality of final layer is\n",
        "\t\t# already stored in self.dim_output_data\n",
        "    # Create the output of the final layer as logits\n",
        "\t\t# You might also like to apply the final activation function (softmax / sigmoid) to get the predicted labels\n",
        "    \n",
        "    self.weights['out'] = tf.Variable(tf.truncated_normal([self.in_dim_for_next_layer, self.dim_output_data], mean=0, stddev=1 / np.sqrt(self.in_dim_for_next_layer)))\n",
        "    self.biases['out'] = tf.Variable(tf.truncated_normal([self.dim_output_data],mean=0, stddev=1 / np.sqrt(self.in_dim_for_next_layer)))\n",
        "    if regularizer_fn != None:\n",
        "      self.regularizer += regularizer_wgt*regularizer_fn(self.weights['h'+str(self.num_layers)])\n",
        "    if activation_fn == None:\n",
        "      self.predictions = tf.matmul(self.y['y'+str(self.num_layers)], self.weights['out']) + self.biases['out']\n",
        "    else:\n",
        "      self.predictions = activation_fn(tf.matmul(self.y['y'+str(self.num_layers)], self.weights['out']) + self.biases['out'])\n",
        "\t\t\n",
        "  def setup_training(self, learn_rate):\n",
        "\t\t# Define loss, you might want to store it as self.loss\n",
        "\t\t# Define the train step as self.train_step = ..., use an optimizer from tf.train and call minimize(self.loss)\n",
        "    \n",
        "    self.loss = tf.reduce_mean(tf.nn.softmax_cross_entropy_with_logits_v2(logits=self.predictions, labels = self.trainY)) + self.regularizer \n",
        "    self.train_step = tf.train.AdamOptimizer(learn_rate).minimize(self.loss)\n",
        "\t\t\n",
        "  def setup_metrics(self):\n",
        "\t\t# Use the predicted labels and compare them with the input labels(placeholder defined in __init__)\n",
        "\t\t# to calculate accuracy, and store it as self.accuracy\n",
        "\t\t\n",
        "    self.correct_prediction = tf.equal(tf.argmax(self.predictions, 1), tf.argmax(self.trainY, 1))\n",
        "    self.accuracy = tf.reduce_mean(tf.cast(self.correct_prediction, tf.float32), name=\"Accuracy\")\n",
        "    \n",
        "  def setup_training_speech(self, learn_rate):\n",
        "    self.loss = tf.losses.mean_squared_error(labels=self.trainY, predictions=self.predictions) + + self.regularizer\n",
        "    self.train_step = tf.train.AdamOptimizer(learn_rate).minimize(self.loss)\n",
        "                               \n",
        "  def setup_metrics_speech(self):                         \n",
        "    self.correct_prediction = tf.equal(tf.math.round(self.predictions), self.trainY)\n",
        "    self.accuracy = tf.reduce_mean(tf.cast(self.correct_prediction, tf.float32), name=\"Accuracy\")\n",
        "\t\n",
        "\t# you will need to add other arguments to this function as given below\n",
        "  def train(self, sess, max_epochs, batch_size, train_size, train_x, train_y, valid_x, valid_y, test_x, print_step = 100): # valid_size, test_size, etc\n",
        "\t\t# Write your training part here\n",
        "\t\t# sess is a tensorflow session, used to run the computation graph\n",
        "\t\t# note that all the functions uptil now were just constructing the computation graph\n",
        "\t\t\n",
        "\t\t# one 'epoch' represents that the network has seen the entire dataset once - it is just standard terminology\n",
        "    steps_per_epoch = int(train_size/batch_size)\n",
        "    max_steps = max_epochs * steps_per_epoch\n",
        "    train_losses=[]\n",
        "    valid_losses=[]\n",
        "    valid_accuracies=[]\n",
        "    valid_steps=[]\n",
        "    for step in range(max_steps):\n",
        "\t\t\t# read a batch of data from the training data\n",
        "      \n",
        "      offset = (step * batch_size) % (train_size - batch_size)\n",
        "      batch_data = train_x[offset:(offset + batch_size), :]\n",
        "      batch_labels = train_y[offset:(offset + batch_size), :]\n",
        "      \n",
        "\t\t\t# now run the train_step, self.loss on this batch of training data. something like :\n",
        "      _, train_loss = sess.run([self.train_step, self.loss], feed_dict={self.trainX: batch_data, self.trainY: batch_labels})\n",
        "      \n",
        "      if (step % print_step) == 0 or step == max_steps-1:\n",
        "\t\t\t\t# read the validation dataset and report loss, accuracy on it by running\n",
        "        \n",
        "        val_acc, val_loss = sess.run([self.accuracy, self.loss], feed_dict={self.trainX: valid_x, self.trainY: valid_y})\n",
        "        print(\"Step: \", step, \" Training_Loss: \", train_loss, \" Val_Loss: \", val_loss, \" Val_Acc: \", val_acc)\n",
        "\t\t\t\t# remember that the above will give you val_acc, val_loss as numpy values and not tensors\n",
        "        train_losses.append(train_loss)\n",
        "        valid_losses.append(val_loss)\n",
        "        valid_accuracies.append(val_acc)\n",
        "        valid_steps.append(step)\n",
        "\t\t\t# store these train_loss and validation_loss in lists/arrays, write code to plot them vs steps\n",
        "      \n",
        "\t\t\t# Above curves are *REALLY* important, they give deep insights on what's going on\n",
        "\t\t# -- for loop ends --\n",
        "    \n",
        "    #Plotting Graphs\n",
        "    plt.title(\"Training/Validation Losses\")\n",
        "    plt.xlabel(\"Steps\")\n",
        "    plt.ylabel(\"Loss\")\n",
        "    plt.plot(valid_steps, valid_losses, label=\"Validation Loss\")\n",
        "    plt.plot(valid_steps, train_losses, label=\"Training Loss\")\n",
        "    plt.legend(loc=0)\n",
        "    plt.show()\n",
        "    \n",
        "    plt.title(\"Validation Accuracy\")\n",
        "    plt.xlabel(\"Steps\")\n",
        "    plt.ylabel(\"Accuracy\")\n",
        "    plt.plot(valid_steps, valid_accuracies)\n",
        "    plt.show()\n",
        "    \n",
        "\t\t# Now once training is done, run predictions on the test set\n",
        "\t\t#test_predictions = sess.run('''here, put something like self.predictions that you would have made somewhere''', feed_dict={'''here, feed in test dataset'''})\n",
        "\t\t#return test_predictions\n",
        "    test_prediction = sess.run(self.predictions, feed_dict={self.trainX: test_x})\n",
        "    test_prediction = np.array(test_prediction).argmax(axis = 1)\n",
        "    return test_prediction\n",
        "\t\t# This is because we will ask you to submit test_predictions, and some marks will be based on how your net performs on these unseen instances (test set)\n",
        "    \n",
        "  def train_speech(self, sess, max_epochs, batch_size, train_size, train_x, train_y, valid_x, valid_y, test_x, print_step = 100): # valid_size, test_size, etc\n",
        "\t\t# Write your training part here\n",
        "\t\t# sess is a tensorflow session, used to run the computation graph\n",
        "\t\t# note that all the functions uptil now were just constructing the computation graph\n",
        "\t\t\n",
        "\t\t# one 'epoch' represents that the network has seen the entire dataset once - it is just standard terminology\n",
        "    steps_per_epoch = int(train_size/batch_size)\n",
        "    max_steps = max_epochs * steps_per_epoch\n",
        "    train_losses=[]\n",
        "    valid_losses=[]\n",
        "    valid_accuracies=[]\n",
        "    valid_steps=[]\n",
        "    for step in range(max_steps):\n",
        "\t\t\t# read a batch of data from the training data\n",
        "      \n",
        "      offset = (step * batch_size) % (train_size - batch_size)\n",
        "      batch_data = train_x[offset:(offset + batch_size), :]\n",
        "      batch_labels = train_y[offset:(offset + batch_size), :]\n",
        "      \n",
        "\t\t\t# now run the train_step, self.loss on this batch of training data. something like :\n",
        "      _, train_loss = sess.run([self.train_step, self.loss], feed_dict={self.trainX: batch_data, self.trainY: batch_labels})\n",
        "      \n",
        "      if (step % print_step) == 0 or step == max_steps-1:\n",
        "\t\t\t\t# read the validation dataset and report loss, accuracy on it by running\n",
        "        \n",
        "        val_acc, val_loss = sess.run([self.accuracy, self.loss], feed_dict={self.trainX: valid_x, self.trainY: valid_y})\n",
        "        print(\"Step: \", step, \" Training_Loss: \", train_loss, \" Val_Loss: \", val_loss, \" Val_Acc: \", val_acc)\n",
        "\t\t\t\t# remember that the above will give you val_acc, val_loss as numpy values and not tensors\n",
        "        train_losses.append(train_loss)\n",
        "        valid_losses.append(val_loss)\n",
        "        valid_accuracies.append(val_acc)\n",
        "        valid_steps.append(step)\n",
        "\t\t\t# store these train_loss and validation_loss in lists/arrays, write code to plot them vs steps\n",
        "      \n",
        "\t\t\t# Above curves are *REALLY* important, they give deep insights on what's going on\n",
        "\t\t# -- for loop ends --\n",
        "    \n",
        "    #Plotting Graphs\n",
        "    plt.title(\"Training/Validation Losses\")\n",
        "    plt.xlabel(\"Steps\")\n",
        "    plt.ylabel(\"Loss\")\n",
        "    plt.plot(valid_steps, valid_losses, label=\"Validation Loss\")\n",
        "    plt.plot(valid_steps, train_losses, label=\"Training Loss\")\n",
        "    plt.legend(loc=0)\n",
        "    plt.show()\n",
        "    \n",
        "    plt.title(\"Validation Accuracy\")\n",
        "    plt.xlabel(\"Steps\")\n",
        "    plt.ylabel(\"Accuracy\")\n",
        "    plt.plot(valid_steps, valid_accuracies)\n",
        "    plt.show()\n",
        "    \n",
        "\t\t# Now once training is done, run predictions on the test set\n",
        "\t\t#test_predictions = sess.run('''here, put something like self.predictions that you would have made somewhere''', feed_dict={'''here, feed in test dataset'''})\n",
        "\t\t#return test_predictions\n",
        "    test_prediction = sess.run(self.predictions, feed_dict={self.trainX: test_x})\n",
        "    test_prediction = np.round(np.array(test_prediction))\n",
        "    return test_prediction\n",
        "    '''\n",
        "\t  We have done everything in train(), but\n",
        "\t\tyou might want to create another function named eval(),\n",
        "\t\twhich calculates the predictions on test instances ...\n",
        "    '''\n",
        "    \n",
        "  '''\n",
        "\tNOTE:\n",
        "\tyou might find it convenient to make 3 different train functions corresponding to the three different tasks,\n",
        "\tand call the relevant one from each train_*.py\n",
        "\tThe reason for this is that the arguments to the train() are different across the tasks\n",
        "  '''\n",
        "  '''\n",
        "\tExample, for the speech part, the train() would look something like :\n",
        "\t(NOTE: this is only a rough structure, we don't claim that this is exactly what you have to do.)\n",
        "\t'''"
      ],
      "execution_count": null,
      "outputs": [
        {
          "output_type": "execute_result",
          "data": {
            "text/plain": [
              "'\\n  def train(self, sess, batch_size, train_size, max_epochs, train_signal, train_lbls, valid_signal, valid_lbls, test_signal, print_step = 100):\\n    steps_per_epoch = math.ceil(train_size/batch_size)\\n    max_steps = max_epochs*steps_per_epoch\\n    print(max_steps)\\n    for step in range(max_steps):\\n\\t\\t\\t# select batch_size elements randomly from training data\\n      sampled_indices = np.random.choice(range(train_size), batch_size)\\n      trn_signal = train_signal[sampled_indices]\\n      trn_labels = train_lbls[sampled_indices]\\n      _, train_loss = sess.run([self.train_step, self.loss], feed_dict={self.trainX: trn_signal, self.trainY: trn_labels})\\n      if (step % print_step) == 0:\\n        val_loss, val_acc = sess.run([self.loss, self.accuracy], feed_dict={self.trainX: valid_signal, self.trainY: valid_lbls})\\n        print(\"Step: \", step, \" Training_Loss: \", train_loss, \" Val_Loss: \", val_loss, \" Val_Acc: \", val_acc)\\n    \\n    test_prediction = sess.run([self.predictions], feed_dict={self.trainX: test_signal})\\n    return test_prediction\\n'"
            ]
          },
          "metadata": {
            "tags": []
          },
          "execution_count": 25
        }
      ]
    },
    {
      "cell_type": "code",
      "metadata": {
        "id": "-2T2KFprK1dr",
        "colab": {
          "base_uri": "https://localhost:8080/",
          "height": 979
        },
        "outputId": "6e986e0a-3723-47b6-e6d2-63efba9b403b"
      },
      "source": [
        "xtrain = np.load('/content/drive/My Drive/asgn3/data/mnist/xtrain.npy')\n",
        "ytrain = np.load('/content/drive/My Drive/asgn3/data/mnist/ytrain.npy')\n",
        "\n",
        "xval = np.load('/content/drive/My Drive/asgn3/data/mnist/xval.npy')\n",
        "yval = np.load('/content/drive/My Drive/asgn3/data/mnist/yval.npy')\n",
        "\n",
        "xtest = np.load('/content/drive/My Drive/asgn3/data/mnist/xtest.npy')\n",
        "\n",
        "dim_input = 784\n",
        "dim_output = 10\n",
        "\n",
        "max_epochs = 10\n",
        "learn_rate = 1e-4\n",
        "batch_size = 50\n",
        "\n",
        "train_size = len(xtrain)\n",
        "valid_size = len(xval)\n",
        "test_size = len(xtest)\n",
        "\n",
        "total_images = []\n",
        "total_labels = []\n",
        "\n",
        "# Create Computation Graph\n",
        "nn_instance = myNeuralNet(dim_input, dim_output)\n",
        "nn_instance.addHiddenLayer(2048, activation_fn=tf.nn.relu)\n",
        "nn_instance.addHiddenLayer(1024, activation_fn=tf.nn.relu)\n",
        "nn_instance.addHiddenLayer(512, activation_fn=tf.nn.relu)\n",
        "# add more hidden layers here by calling addHiddenLayer as much as you want\n",
        "# a net of depth 3 should be sufficient for most tasks\n",
        "nn_instance.addFinalLayer(activation_fn = tf.nn.softmax)\n",
        "nn_instance.setup_training(learn_rate)\n",
        "nn_instance.setup_metrics()\n",
        "\n",
        "# Training steps\n",
        "with tf.Session() as sess:\n",
        "\tsess.run(tf.global_variables_initializer())\n",
        "\ttest_pred = nn_instance.train(sess, max_epochs, batch_size, train_size, xtrain, ytrain, xval, yval, xtest, print_step = 500)"
      ],
      "execution_count": null,
      "outputs": [
        {
          "output_type": "stream",
          "text": [
            "Step:  0  Training_Loss:  2.3023112  Val_Loss:  2.3002627  Val_Acc:  0.1115234\n",
            "Step:  500  Training_Loss:  1.6114502  Val_Loss:  1.5455846  Val_Acc:  0.9276438\n",
            "Step:  1000  Training_Loss:  1.4917096  Val_Loss:  1.5384961  Val_Acc:  0.9286745\n",
            "Step:  1500  Training_Loss:  1.5285094  Val_Loss:  1.5144187  Val_Acc:  0.9503195\n",
            "Step:  2000  Training_Loss:  1.5019716  Val_Loss:  1.5090489  Val_Acc:  0.9562977\n",
            "Step:  2500  Training_Loss:  1.4923712  Val_Loss:  1.5035111  Val_Acc:  0.959596\n",
            "Step:  3000  Training_Loss:  1.4971515  Val_Loss:  1.5133696  Val_Acc:  0.9521748\n",
            "Step:  3500  Training_Loss:  1.5173895  Val_Loss:  1.5027469  Val_Acc:  0.9612451\n",
            "Step:  4000  Training_Loss:  1.5491045  Val_Loss:  1.4997644  Val_Acc:  0.96371883\n",
            "Step:  4500  Training_Loss:  1.4625831  Val_Loss:  1.4965649  Val_Acc:  0.96619254\n",
            "Step:  5000  Training_Loss:  1.5097011  Val_Loss:  1.4957062  Val_Acc:  0.96681094\n",
            "Step:  5500  Training_Loss:  1.4836715  Val_Loss:  1.4924188  Val_Acc:  0.9692847\n",
            "Step:  6000  Training_Loss:  1.5021018  Val_Loss:  1.4912647  Val_Acc:  0.9703154\n",
            "Step:  6500  Training_Loss:  1.483334  Val_Loss:  1.4923184  Val_Acc:  0.9701093\n",
            "Step:  7000  Training_Loss:  1.4816481  Val_Loss:  1.483885  Val_Acc:  0.9793857\n",
            "Step:  7500  Training_Loss:  1.4816556  Val_Loss:  1.4926748  Val_Acc:  0.96866626\n",
            "Step:  8000  Training_Loss:  1.501382  Val_Loss:  1.486315  Val_Acc:  0.9750567\n",
            "Step:  8500  Training_Loss:  1.4821348  Val_Loss:  1.4845839  Val_Acc:  0.9779427\n",
            "Step:  9000  Training_Loss:  1.4640341  Val_Loss:  1.486803  Val_Acc:  0.9746444\n",
            "Step:  9500  Training_Loss:  1.4615788  Val_Loss:  1.487509  Val_Acc:  0.97381985\n",
            "Step:  10000  Training_Loss:  1.4818125  Val_Loss:  1.4865535  Val_Acc:  0.97443825\n",
            "Step:  10500  Training_Loss:  1.4781054  Val_Loss:  1.4845709  Val_Acc:  0.9775304\n",
            "Step:  11000  Training_Loss:  1.4611907  Val_Loss:  1.4858564  Val_Acc:  0.9752628\n",
            "Step:  11059  Training_Loss:  1.4611564  Val_Loss:  1.4872211  Val_Acc:  0.9750567\n"
          ],
          "name": "stdout"
        },
        {
          "output_type": "display_data",
          "data": {
            "image/png": "[encoded data removed]",
            "text/plain": [
              "<matplotlib.figure.Figure at 0x7f39d1cc7ac8>"
            ]
          },
          "metadata": {
            "tags": []
          }
        },
        {
          "output_type": "display_data",
          "data": {
            "image/png": "[encoded data removed]",
            "text/plain": [
              "<matplotlib.figure.Figure at 0x7f39d1b18828>"
            ]
          },
          "metadata": {
            "tags": []
          }
        }
      ]
    },
    {
      "cell_type": "code",
      "metadata": {
        "id": "jee_sIteXzuL"
      },
      "source": [
        "np.save(\"predictions_mnist\",test_pred)"
      ],
      "execution_count": null,
      "outputs": []
    },
    {
      "cell_type": "markdown",
      "metadata": {
        "id": "RhFpj1-6P_kw"
      },
      "source": [
        "2 Hidden Layers 1024 and 512: Val_acc = 0.9760874\n",
        "3 Hidden Layers 1024, 512, and 256: Val_acc = 0.97237"
      ]
    },
    {
      "cell_type": "markdown",
      "metadata": {
        "id": "TI3fOeAfEHRH"
      },
      "source": [
        "**Speech Dataset**"
      ]
    },
    {
      "cell_type": "code",
      "metadata": {
        "id": "GRp7JviKAPJg"
      },
      "source": [
        "import librosa\n",
        "#Defining properties\n",
        "dim_input = 900\n",
        "dim_output = 1\n",
        "\n",
        "# strings for file reading\n",
        "train_fname = '/content/drive/My Drive/asgn3/data/speech/train/flist.txt'\n",
        "val_fname = '/content/drive/My Drive/asgn3/data/speech/validation/flist.txt'\n",
        "test_fname = '/content/drive/My Drive/asgn3/data/speech/test/flist.txt'\n",
        "\n",
        "''' util function for reading'''\n",
        "# count_go = 0\n",
        "# count_stop = 0\n",
        "def interpretLine(line, append_str):\n",
        "\tglobal count_go, count_stop\n",
        "\tcleanLine = line.strip()\n",
        "\tfileName = append_str + cleanLine\n",
        "\tif 'go_' in cleanLine:\n",
        "\t\tlabel = 1.0\n",
        "\t\t# count_go += 1\n",
        "\telse:\n",
        "\t\tlabel = 0.0\n",
        "\t\t# count_stop += 1        \n",
        "\treturn fileName, label\n",
        "\n",
        "''' util function for speech sampling'''\n",
        "def sample(fpath):\n",
        "\tsignal,_ = librosa.load(fpath)\n",
        "\tsignal = librosa.feature.mfcc(y=signal, n_mfcc=int(dim_input/45))\n",
        "\t# print(\"after mfcc:\", signal.shape)\n",
        "\tsignal = signal.flatten()\n",
        "\tsignal = np.resize(signal, new_shape=(dim_input,1))\n",
        "\treturn np.transpose(signal)\n"
      ],
      "execution_count": null,
      "outputs": []
    },
    {
      "cell_type": "code",
      "metadata": {
        "id": "hkJWCdxoC1b_"
      },
      "source": [
        "# Import data\n",
        "# storing train data\n",
        "train_input = [] # list of strings - each entry is a filepath\n",
        "train_labels = [] # list of labels - each entry is a float\n",
        "with open(train_fname) as f:\n",
        "\tappend_str = '/content/drive/My Drive/asgn3/data/speech/train/'\n",
        "\tfor line in f:\n",
        "\t\tfileName, label = interpretLine(line, append_str)\n",
        "\t\ttrain_input.append(fileName)\n",
        "\t\ttrain_labels.append(label)\n",
        "\n",
        "# storing validation data - similar\n",
        "valid_input = []\n",
        "valid_labels = []\n",
        "with open(val_fname) as f:\n",
        "\tappend_str = '/content/drive/My Drive/asgn3/data/speech/validation/'\n",
        "\tfor line in f:\n",
        "\t\tfileName, label = interpretLine(line, append_str)\n",
        "\t\tvalid_input.append(fileName)\n",
        "\t\tvalid_labels.append(label)\n",
        "\n",
        "# storing test data\n",
        "test_input = []\n",
        "# remember you don't have test labels\n",
        "with open(test_fname) as f:\n",
        "\tappend_str = '/content/drive/My Drive/asgn3/data/speech/test/'\n",
        "\tfor line in f:\n",
        "\t\tfileName = append_str + line.strip()\n",
        "\t\ttest_input.append(fileName)\n",
        "\n",
        "train_size = len(train_input)\n",
        "valid_size = len(valid_input)\n",
        "test_size = len(test_input)\n",
        "\n",
        "\n",
        "\n",
        "\n"
      ],
      "execution_count": null,
      "outputs": []
    },
    {
      "cell_type": "code",
      "metadata": {
        "id": "d2V-MPDPQ3cG",
        "colab": {
          "base_uri": "https://localhost:8080/",
          "height": 34
        },
        "outputId": "c0d3b544-8550-4f54-8353-92efbaec8ff7"
      },
      "source": [
        "test_size"
      ],
      "execution_count": null,
      "outputs": [
        {
          "output_type": "execute_result",
          "data": {
            "text/plain": [
              "899"
            ]
          },
          "metadata": {
            "tags": []
          },
          "execution_count": 9
        }
      ]
    },
    {
      "cell_type": "code",
      "metadata": {
        "id": "xlbkS0bHQL7-",
        "colab": {
          "base_uri": "https://localhost:8080/",
          "height": 595
        },
        "outputId": "d0fcc8b5-cf2f-4f99-de27-ac9fa9948133"
      },
      "source": [
        "\n",
        "''' Create arrays for training, validation, test '''\n",
        "\n",
        "# read and store mfcc for training set\n",
        "train_signal = np.empty(shape=(train_size, dim_input))\n",
        "train_lbls = np.empty(shape=(train_size, dim_output))\n",
        "# this will take a lot of time\n",
        "for index_train in range(train_size):\n",
        "\ttrain_signal[index_train] = sample(train_input[index_train])\n",
        "\ttrain_lbls[index_train] = np.transpose( np.reshape(np.array(train_labels[index_train]), newshape=(dim_output,1) ) )\n",
        "\tif index_train%100 == 0:\n",
        "\t\tprint(\"Read \", index_train, \" instances out of full train set.\")\n",
        "print(\"Read full training set.\")\n",
        "# print(count_go)\n",
        "# print(count_stop)\n",
        "        \n",
        "# print(train_signal.shape)\n",
        "# print(train_lbls.shape)\n",
        "\n",
        "# print(train_signal[0])\n",
        "# print(train_lbls[0])\n"
      ],
      "execution_count": null,
      "outputs": [
        {
          "output_type": "stream",
          "text": [
            "Read  0  instances out of full train set.\n",
            "Read  100  instances out of full train set.\n",
            "Read  200  instances out of full train set.\n",
            "Read  300  instances out of full train set.\n",
            "Read  500  instances out of full train set.\n",
            "Read  600  instances out of full train set.\n",
            "Read  700  instances out of full train set.\n",
            "Read  800  instances out of full train set.\n",
            "Read  900  instances out of full train set.\n",
            "Read  1000  instances out of full train set.\n",
            "Read  1100  instances out of full train set.\n",
            "Read  1200  instances out of full train set.\n",
            "Read  1300  instances out of full train set.\n",
            "Read  1400  instances out of full train set.\n",
            "Read  1500  instances out of full train set.\n",
            "Read  1600  instances out of full train set.\n",
            "Read  1700  instances out of full train set.\n",
            "Read  1800  instances out of full train set.\n",
            "Read  1900  instances out of full train set.\n",
            "Read  2000  instances out of full train set.\n",
            "Read  2100  instances out of full train set.\n",
            "Read  2200  instances out of full train set.\n",
            "Read  2300  instances out of full train set.\n",
            "Read  2400  instances out of full train set.\n",
            "Read  2500  instances out of full train set.\n",
            "Read  2600  instances out of full train set.\n",
            "Read  2700  instances out of full train set.\n",
            "Read  2800  instances out of full train set.\n",
            "Read  2900  instances out of full train set.\n",
            "Read  3100  instances out of full train set.\n",
            "Read  3200  instances out of full train set.\n",
            "Read  3300  instances out of full train set.\n",
            "Read  3400  instances out of full train set.\n",
            "Read full training set.\n"
          ],
          "name": "stdout"
        }
      ]
    },
    {
      "cell_type": "code",
      "metadata": {
        "id": "Uxdg_4EhaGzv"
      },
      "source": [
        "np.save(\"speech_training_attr.npy\", train_signal)\n",
        "np.save(\"speech_training_label.npy\", train_lbls)"
      ],
      "execution_count": null,
      "outputs": []
    },
    {
      "cell_type": "code",
      "metadata": {
        "id": "1qD3W0fKQO4Q",
        "colab": {
          "base_uri": "https://localhost:8080/",
          "height": 272
        },
        "outputId": "645a4cbf-c6cc-481d-adb1-9d4e224dafd4"
      },
      "source": [
        "# read and store mfcc for validation set\n",
        "valid_signal = np.empty(shape=(valid_size, dim_input))\n",
        "valid_lbls = np.empty(shape=(valid_size, dim_output))\n",
        "for index_valid in range(valid_size):\n",
        "\tvalid_signal[index_valid] = sample(valid_input[index_valid])\n",
        "\tvalid_lbls[index_valid] = np.transpose( np.reshape(np.array(valid_labels[index_valid]), newshape=(dim_output,1) ) )\n",
        "\tif index_valid%100 == 0:\n",
        "\t\tprint(\"Read \", index_valid, \" instances out of full validation set.\")\n",
        "print(\"Read full validation set.\")\n",
        "\n",
        "# read and store mfcc for test set (only signals here, no labels)\n",
        "test_signal = np.empty(shape=(test_size, dim_input))\n",
        "for index_test in range(test_size):\n",
        "\ttest_signal[index_test] = sample(test_input[index_test])\n",
        "\tif index_test%100 == 0:\n",
        "\t\tprint(\"Read \", index_test, \" instances out of full test set.\")\n",
        "print(\"Read full test set.\")"
      ],
      "execution_count": null,
      "outputs": [
        {
          "output_type": "stream",
          "text": [
            "Read  0  instances out of full validation set.\n",
            "Read  100  instances out of full validation set.\n",
            "Read  200  instances out of full validation set.\n",
            "Read  300  instances out of full validation set.\n",
            "Read  400  instances out of full validation set.\n",
            "Read full validation set.\n",
            "Read  0  instances out of full test set.\n",
            "Read  100  instances out of full test set.\n",
            "Read  300  instances out of full test set.\n",
            "Read  400  instances out of full test set.\n",
            "Read  500  instances out of full test set.\n",
            "Read  600  instances out of full test set.\n",
            "Read  700  instances out of full test set.\n",
            "Read  800  instances out of full test set.\n",
            "Read full test set.\n"
          ],
          "name": "stdout"
        }
      ]
    },
    {
      "cell_type": "code",
      "metadata": {
        "id": "1uJRpsymQRf1"
      },
      "source": [
        "np.save(\"speech_valid_attr.npy\", valid_signal)\n",
        "np.save(\"speech_valid_label.npy\", valid_lbls)\n",
        "\n",
        "np.save(\"speech_test_attr.npy\", test_signal)"
      ],
      "execution_count": null,
      "outputs": []
    },
    {
      "cell_type": "code",
      "metadata": {
        "id": "hhLt9leNjRab"
      },
      "source": [
        "train_signal = np.load('drive/My Drive/asgn3/data/speech/speech_training_attr.npy')\n",
        "train_lbls = np.load('drive/My Drive/asgn3/data/speech/speech_training_label.npy')\n",
        "\n",
        "valid_signal = np.load('drive/My Drive/asgn3/data/speech/speech_valid_attr.npy')\n",
        "valid_lbls = np.load('drive/My Drive/asgn3/data/speech/speech_valid_label.npy')\n",
        "\n",
        "test_signal = np.load('drive/My Drive/asgn3/data/speech/speech_test_attr.npy')"
      ],
      "execution_count": null,
      "outputs": []
    },
    {
      "cell_type": "code",
      "metadata": {
        "id": "MOiuOaWLDE4I",
        "colab": {
          "base_uri": "https://localhost:8080/",
          "height": 1064
        },
        "outputId": "296de980-c321-4eee-cc6a-1c8a961ce95c"
      },
      "source": [
        "max_epochs = 200\n",
        "learn_rate = 2e-6\n",
        "batch_size = 50\n",
        "\n",
        "# Create Computation Graph\n",
        "nn_instance = myNeuralNet(dim_input, dim_output)\n",
        "nn_instance.addHiddenLayer(4096, activation_fn=tf.nn.relu)\n",
        "nn_instance.addHiddenLayer(2048, activation_fn=tf.nn.relu)\n",
        "nn_instance.addHiddenLayer(1024, activation_fn=tf.nn.relu)\n",
        "# add more hidden layers here by calling addHiddenLayer as much as you want\n",
        "# a net of depth 3 should be sufficient for most tasks\n",
        "nn_instance.addFinalLayer(tf.nn.sigmoid)\n",
        "nn_instance.setup_training_speech(learn_rate)\n",
        "nn_instance.setup_metrics_speech()\n",
        "\n",
        "# Training steps\n",
        "with tf.Session() as sess:\n",
        "  sess.run(tf.global_variables_initializer())\n",
        "  test_pred= nn_instance.train_speech(sess, max_epochs, batch_size, train_size, train_signal, train_lbls, valid_signal, valid_lbls, test_signal, print_step = 500) # add more arguments here\n",
        " "
      ],
      "execution_count": null,
      "outputs": [
        {
          "output_type": "stream",
          "text": [
            "Step:  0  Training_Loss:  0.4762786  Val_Loss:  0.54590166  Val_Acc:  0.42222223\n",
            "Step:  500  Training_Loss:  0.28700092  Val_Loss:  0.29780522  Val_Acc:  0.67333335\n",
            "Step:  1000  Training_Loss:  0.07630714  Val_Loss:  0.10745158  Val_Acc:  0.88\n",
            "Step:  1500  Training_Loss:  0.052132323  Val_Loss:  0.11769473  Val_Acc:  0.8577778\n",
            "Step:  2000  Training_Loss:  0.04798583  Val_Loss:  0.095198736  Val_Acc:  0.8977778\n",
            "Step:  2500  Training_Loss:  0.04011582  Val_Loss:  0.08718895  Val_Acc:  0.9022222\n",
            "Step:  3000  Training_Loss:  0.06043828  Val_Loss:  0.08133384  Val_Acc:  0.9022222\n",
            "Step:  3500  Training_Loss:  0.040273048  Val_Loss:  0.08235016  Val_Acc:  0.9\n",
            "Step:  4000  Training_Loss:  0.002120501  Val_Loss:  0.08348359  Val_Acc:  0.89111114\n",
            "Step:  4500  Training_Loss:  6.420903e-05  Val_Loss:  0.07563165  Val_Acc:  0.9088889\n",
            "Step:  5000  Training_Loss:  0.020034714  Val_Loss:  0.0770792  Val_Acc:  0.9111111\n",
            "Step:  5500  Training_Loss:  0.013271618  Val_Loss:  0.07362449  Val_Acc:  0.91555554\n",
            "Step:  6000  Training_Loss:  0.00022516341  Val_Loss:  0.09674932  Val_Acc:  0.8888889\n",
            "Step:  6500  Training_Loss:  6.937825e-05  Val_Loss:  0.07661093  Val_Acc:  0.9111111\n",
            "Step:  7000  Training_Loss:  0.020870907  Val_Loss:  0.111458234  Val_Acc:  0.8711111\n",
            "Step:  7500  Training_Loss:  0.10324509  Val_Loss:  0.10472097  Val_Acc:  0.8844444\n",
            "Step:  8000  Training_Loss:  0.025846628  Val_Loss:  0.06752967  Val_Acc:  0.92444444\n",
            "Step:  8500  Training_Loss:  5.6261848e-05  Val_Loss:  0.08346389  Val_Acc:  0.9088889\n",
            "Step:  9000  Training_Loss:  0.004761438  Val_Loss:  0.07290532  Val_Acc:  0.91333336\n",
            "Step:  9500  Training_Loss:  1.5642281e-06  Val_Loss:  0.062056877  Val_Acc:  0.92444444\n",
            "Step:  10000  Training_Loss:  0.040048987  Val_Loss:  0.09133415  Val_Acc:  0.9\n",
            "Step:  10500  Training_Loss:  0.020049892  Val_Loss:  0.05817497  Val_Acc:  0.9355556\n",
            "Step:  11000  Training_Loss:  0.040820953  Val_Loss:  0.06568961  Val_Acc:  0.9266667\n",
            "Step:  11500  Training_Loss:  6.43729e-06  Val_Loss:  0.07195466  Val_Acc:  0.92\n",
            "Step:  12000  Training_Loss:  0.021747693  Val_Loss:  0.06348655  Val_Acc:  0.9266667\n",
            "Step:  12500  Training_Loss:  5.3240296e-07  Val_Loss:  0.09350436  Val_Acc:  0.8888889\n",
            "Step:  13000  Training_Loss:  3.5284727e-06  Val_Loss:  0.059812117  Val_Acc:  0.9311111\n",
            "Step:  13500  Training_Loss:  0.020005412  Val_Loss:  0.061581552  Val_Acc:  0.9288889\n",
            "Step:  13599  Training_Loss:  0.020055924  Val_Loss:  0.050783146  Val_Acc:  0.94222224\n"
          ],
          "name": "stdout"
        },
        {
          "output_type": "display_data",
          "data": {
            "image/png": "[encoded data removed]",
            "text/plain": [
              "<matplotlib.figure.Figure at 0x7f39d13f6240>"
            ]
          },
          "metadata": {
            "tags": []
          }
        },
        {
          "output_type": "display_data",
          "data": {
            "image/png": "[encoded data removed]",
            "text/plain": [
              "<matplotlib.figure.Figure at 0x7f39d0bafa58>"
            ]
          },
          "metadata": {
            "tags": []
          }
        }
      ]
    },
    {
      "cell_type": "markdown",
      "metadata": {
        "id": "Z_GnVpU3qxvT"
      },
      "source": [
        "Val_Acc: 0.9444444"
      ]
    },
    {
      "cell_type": "code",
      "metadata": {
        "id": "8orKCu2SQ795"
      },
      "source": [
        "# np.savetxt(\"predictions_speech.txt\", test_pred, fmt=\"%u\")\n",
        "file = open(\"predictions_speech.txt\",\"w\")\n",
        "for i in range(test_pred.shape[0]):\n",
        "  if test_pred[i] == 0:\n",
        "    file.write(\"stop\\n\")\n",
        "  elif test_pred[i] == 1:\n",
        "    file.write(\"go\\n\")\n",
        "    \n",
        "file.close()"
      ],
      "execution_count": null,
      "outputs": []
    },
    {
      "cell_type": "markdown",
      "metadata": {
        "id": "iX7YA_2NEVyd"
      },
      "source": [
        "**Census Dataset**"
      ]
    },
    {
      "cell_type": "code",
      "metadata": {
        "id": "yMnJbGjJEU3l",
        "colab": {
          "base_uri": "https://localhost:8080/",
          "height": 68
        },
        "outputId": "2aceed52-7217-4cb2-8b69-cc36a20f6037"
      },
      "source": [
        "dim_input = 105 # change this according to your encoding of the input features\n",
        "dim_output = 2 # binary class classification can be done using sigmoid\n",
        "\n",
        "max_epochs = 50\n",
        "learn_rate = 1e-4\n",
        "batch_size = 50\n",
        "\n",
        "def file_size(fname):\n",
        "\twith open(fname) as f:\n",
        "\t\tfor i, l in enumerate(f):\n",
        "\t\t\tpass\n",
        "\treturn i + 1\n",
        "\n",
        "train_fname = '/content/drive/My Drive/asgn3/data/census/train_data'\n",
        "valid_fname = '/content/drive/My Drive/asgn3/data/census/validation_data'\n",
        "test_fname = '/content/drive/My Drive/asgn3/data/census/test_data'\n",
        "train_size = file_size(train_fname)\n",
        "valid_size = file_size(valid_fname)\n",
        "test_size = file_size(test_fname)\n",
        "\n",
        "print(train_size)\n",
        "print(valid_size)\n",
        "print(test_size)\n",
        "\n",
        "\n"
      ],
      "execution_count": null,
      "outputs": [
        {
          "output_type": "stream",
          "text": [
            "34190\n",
            "4884\n",
            "9768\n"
          ],
          "name": "stdout"
        }
      ]
    },
    {
      "cell_type": "code",
      "metadata": {
        "id": "4BxPFeOJbsU9"
      },
      "source": [
        "import pandas as pd\n",
        "\n",
        "def file_to_df(fname, df):\n",
        "  with open(fname, \"r\") as file:\n",
        "    for i,line in enumerate(file):\n",
        "      if(i%1000 == 0):\n",
        "        print(i)\n",
        "      currentline = line.rstrip(\".\\n\").split(\",\")\n",
        "      df.loc[i] = currentline\n",
        "  return df\n",
        "\n",
        "def clean_df(df, categorical_cols):\n",
        "  df.replace(\" ?\",np.nan)\n",
        "  cts_cols = list(set(df.columns.values) - set(categorical_cols))\n",
        "  for col in categorical_cols:\n",
        "    df[col].fillna(df[col].mode()[0])\n",
        "  for col in cts_cols:\n",
        "    df = df.astype({col: float})\n",
        "    df[col].fillna(round(df[col].astype(float).mean()))\n",
        "  return df\n"
      ],
      "execution_count": null,
      "outputs": []
    },
    {
      "cell_type": "code",
      "metadata": {
        "id": "PTyC1x07dBlw",
        "colab": {
          "base_uri": "https://localhost:8080/",
          "height": 612
        },
        "outputId": "aa882c9d-a645-422b-fccd-1a3090152431"
      },
      "source": [
        "column_names=[\"age\",\"workclass\",\"fnlwgt\",\"education\",\"education-num\",\"marital-status\",\"occupation\",\"relationship\",\"race\",\"sex\",\"capital-gain\",\"capital-loss\",\"hours-per-week\",\"native-country\",\"class\"]\n",
        "categorical_cols = [\"workclass\", \"education\", \"marital-status\", \"occupation\", \"relationship\", \"race\", \"sex\", \"native-country\"]\n",
        "\n",
        "train_df=pd.DataFrame(columns = column_names)\n",
        "train_df = file_to_df(train_fname, train_df)\n",
        "print(\"File -> Dataframe successful\")  "
      ],
      "execution_count": null,
      "outputs": [
        {
          "output_type": "stream",
          "text": [
            "0\n",
            "1000\n",
            "2000\n",
            "3000\n",
            "4000\n",
            "5000\n",
            "6000\n",
            "7000\n",
            "8000\n",
            "9000\n",
            "10000\n",
            "11000\n",
            "12000\n",
            "14000\n",
            "15000\n",
            "16000\n",
            "17000\n",
            "18000\n",
            "19000\n",
            "20000\n",
            "21000\n",
            "22000\n",
            "23000\n",
            "24000\n",
            "25000\n",
            "26000\n",
            "27000\n",
            "28000\n",
            "29000\n",
            "30000\n",
            "31000\n",
            "32000\n",
            "33000\n",
            "34000\n",
            "File -> Dataframe successful\n"
          ],
          "name": "stdout"
        }
      ]
    },
    {
      "cell_type": "code",
      "metadata": {
        "id": "HFT755gbr2f8"
      },
      "source": [
        "train_df.to_pickle(\"census_train_raw\")"
      ],
      "execution_count": null,
      "outputs": []
    },
    {
      "cell_type": "code",
      "metadata": {
        "id": "lOt6bC4UsElS",
        "colab": {
          "base_uri": "https://localhost:8080/",
          "height": 289
        },
        "outputId": "b87f1a50-23c4-4b55-8519-3032e7cd8448"
      },
      "source": [
        "train_df = pd.read_pickle(\"census_train_raw\")\n",
        "print(train_df.loc[0])"
      ],
      "execution_count": null,
      "outputs": [
        {
          "output_type": "stream",
          "text": [
            "age                                28\n",
            "worldclass                    Private\n",
            "fnlwgt                         189530\n",
            "education                     HS-grad\n",
            "education-num                       9\n",
            "marital-status     Married-civ-spouse\n",
            "occupation                      Sales\n",
            "relationship                  Husband\n",
            "race                            White\n",
            "sex                              Male\n",
            "capital-gain                        0\n",
            "capital-loss                        0\n",
            "hours-per-week                     35\n",
            "native-country          United-States\n",
            "class                           <=50K\n",
            "Name: 0, dtype: object\n"
          ],
          "name": "stdout"
        }
      ]
    },
    {
      "cell_type": "code",
      "metadata": {
        "id": "HFXhucbluCzI",
        "colab": {
          "base_uri": "https://localhost:8080/",
          "height": 34
        },
        "outputId": "05912b16-cff9-4609-84d2-300a871b232b"
      },
      "source": [
        "train_df[\"age\"].astype(float).mean()"
      ],
      "execution_count": null,
      "outputs": [
        {
          "output_type": "execute_result",
          "data": {
            "text/plain": [
              "38.64068441064639"
            ]
          },
          "metadata": {
            "tags": []
          },
          "execution_count": 29
        }
      ]
    },
    {
      "cell_type": "code",
      "metadata": {
        "id": "GWdrXY1A1_KI",
        "colab": {
          "base_uri": "https://localhost:8080/",
          "height": 459
        },
        "outputId": "ca4d2b2a-24fb-4e49-da34-646eca72b32e"
      },
      "source": [
        "trainX = train_df.iloc[:,:-1]\n",
        "trainY = train_df.iloc[:,-1]\n",
        "\n",
        "trainX = clean_df(trainX, categorical_cols)\n",
        "print(trainX.head())\n",
        "print(trainY.head())"
      ],
      "execution_count": null,
      "outputs": [
        {
          "output_type": "stream",
          "text": [
            "    age         worldclass    fnlwgt      education  education-num  \\\n",
            "0  28.0            Private  189530.0        HS-grad            9.0   \n",
            "1  31.0            Private  131633.0        HS-grad            9.0   \n",
            "2  34.0            Private  535869.0   Some-college           10.0   \n",
            "3  42.0   Self-emp-not-inc  175674.0        HS-grad            9.0   \n",
            "4  51.0          Local-gov  250054.0   Some-college           10.0   \n",
            "\n",
            "        marital-status      occupation    relationship    race      sex  \\\n",
            "0   Married-civ-spouse           Sales         Husband   White     Male   \n",
            "1   Married-civ-spouse    Craft-repair         Husband   White     Male   \n",
            "2        Never-married   Other-service   Not-in-family   Black     Male   \n",
            "3   Married-civ-spouse           Sales         Husband   White     Male   \n",
            "4              Widowed   Other-service       Unmarried   White   Female   \n",
            "\n",
            "   capital-gain  capital-loss  hours-per-week  native-country  \n",
            "0           0.0           0.0            35.0   United-States  \n",
            "1           0.0           0.0            40.0   United-States  \n",
            "2           0.0           0.0            30.0   United-States  \n",
            "3           0.0           0.0            60.0   United-States  \n",
            "4           0.0           0.0            40.0   United-States  \n",
            "0     <=50K\n",
            "1     <=50K\n",
            "2     <=50K\n",
            "3     <=50K\n",
            "4     <=50K\n",
            "Name: class, dtype: object\n"
          ],
          "name": "stdout"
        }
      ]
    },
    {
      "cell_type": "code",
      "metadata": {
        "id": "AbS5dF-1CLR3"
      },
      "source": [
        "column_names=[\"age\",\"workclass\",\"fnlwgt\",\"education\",\"education-num\",\"marital-status\",\"occupation\",\"relationship\",\"race\",\"sex\",\"capital-gain\",\"capital-loss\",\"hours-per-week\",\"native-country\",\"class\"]\n",
        "categorical_cols = [\"workclass\", \"education\", \"marital-status\", \"occupation\", \"relationship\", \"race\", \"sex\", \"native-country\"]\n",
        "\n",
        "attr_dict = {\n",
        "    'workclass': [' Private', ' Self-emp-not-inc', ' Self-emp-inc', ' Federal-gov', ' Local-gov', ' State-gov', ' Without-pay', ' Never-worked'],\n",
        "    'education': [' Bachelors', ' Some-college', ' 11th', ' HS-grad', ' Prof-school', ' Assoc-acdm', ' Assoc-voc', ' 9th', ' 7th-8th', ' 12th', ' Masters', ' 1st-4th', ' 10th', ' Doctorate', ' 5th-6th', ' Preschool'],\n",
        "    'marital-status': [' Married-civ-spouse', ' Divorced', ' Never-married', ' Separated', ' Widowed', ' Married-spouse-absent', ' Married-AF-spouse'],\n",
        "    'occupation': [' Tech-support', ' Craft-repair', ' Other-service', ' Sales', ' Exec-managerial', ' Prof-specialty', ' Handlers-cleaners', ' Machine-op-inspct', ' Adm-clerical', ' Farming-fishing', ' Transport-moving', ' Priv-house-serv', ' Protective-serv', ' Armed-Forces'],\n",
        "    'relationship': [' Wife', ' Own-child', ' Husband', ' Not-in-family', ' Other-relative', ' Unmarried'],\n",
        "    'race': [' White', ' Asian-Pac-Islander', ' Amer-Indian-Eskimo', ' Other', ' Black'],\n",
        "    'sex': [' Female', ' Male'],\n",
        "    'native-country': [' United-States', ' Cambodia', ' England', ' Puerto-Rico', ' Canada', ' Germany', ' Outlying-US(Guam-USVI-etc)', ' India', ' Japan', ' Greece', ' South', ' China', ' Cuba', ' Iran',' Honduras',' Philippines',' Italy',' Poland',' Jamaica',' Vietnam',' Mexico',' Portugal',' Ireland',' France',' Dominican-Republic',' Laos',' Ecuador',' Taiwan',' Haiti',' Columbia', ' Hungary', ' Guatemala', ' Nicaragua', ' Scotland', ' Thailand', ' Yugoslavia', ' El-Salvador', ' Trinadad&Tobago', ' Peru', ' Hong', ' Holand-Netherlands']\n",
        "}"
      ],
      "execution_count": null,
      "outputs": []
    },
    {
      "cell_type": "code",
      "metadata": {
        "id": "ETCZG-L67_n7"
      },
      "source": [
        "trainX = trainX.rename(columns = {\"worldclass\": \"workclass\"})"
      ],
      "execution_count": null,
      "outputs": []
    },
    {
      "cell_type": "code",
      "metadata": {
        "id": "8JUABdeAxMBc"
      },
      "source": [
        "def one_hot_encode(df, categorical_cols, attr_dict):\n",
        "  cts_cols = list(set(df.columns.values) - set(categorical_cols))\n",
        "  cts_df = pd.DataFrame(df[cts_cols])\n",
        "  \n",
        "  new_attr = []\n",
        "  for col in categorical_cols:\n",
        "    new_attr += attr_dict[col]\n",
        "    \n",
        "  df_ohe = pd.DataFrame(0, index=np.arange(df.shape[0]), columns = new_attr)\n",
        "  for col in categorical_cols:\n",
        "    for i in range(df.shape[0]):\n",
        "      df_ohe.iloc[i][df.iloc[i][col]] = 1\n",
        "      \n",
        "  df_ohe = pd.concat([cts_df, df_ohe], axis=1)\n",
        "  return df_ohe.values"
      ],
      "execution_count": null,
      "outputs": []
    },
    {
      "cell_type": "code",
      "metadata": {
        "id": "JdHTDCc2-dzY",
        "colab": {
          "base_uri": "https://localhost:8080/",
          "height": 34
        },
        "outputId": "a0799996-c83a-4b55-a6cb-b3eda4f7663e"
      },
      "source": [
        "trainX_ohe = one_hot_encode(trainX, categorical_cols, attr_dict)\n",
        "print(trainX_ohe.shape)"
      ],
      "execution_count": null,
      "outputs": [
        {
          "output_type": "stream",
          "text": [
            "(34190, 105)\n"
          ],
          "name": "stdout"
        }
      ]
    },
    {
      "cell_type": "code",
      "metadata": {
        "id": "i8KATrTMBWPS"
      },
      "source": [
        "np.save(\"census_trainX_encoded\", trainX_ohe)"
      ],
      "execution_count": null,
      "outputs": []
    },
    {
      "cell_type": "code",
      "metadata": {
        "id": "iW-b17WMCvnT",
        "colab": {
          "base_uri": "https://localhost:8080/",
          "height": 34
        },
        "outputId": "3a77527d-f730-433a-d39b-363af8b73565"
      },
      "source": [
        "def encode_labels(series, encoded_col_names):\n",
        "  df_encoded = pd.DataFrame(0, index=np.arange(series.shape[0]), columns = encoded_col_names)\n",
        "  for i in range(series.shape[0]):\n",
        "    df_encoded.iloc[i][series[i]] = 1\n",
        "    \n",
        "  return df_encoded.values\n",
        "\n",
        "\n",
        "trainY_e = encode_labels(trainY, [' <=50K',' >50K'])\n",
        "print(trainY_e.shape)"
      ],
      "execution_count": null,
      "outputs": [
        {
          "output_type": "stream",
          "text": [
            "(34190, 2)\n"
          ],
          "name": "stdout"
        }
      ]
    },
    {
      "cell_type": "code",
      "metadata": {
        "id": "uri1GwvTcVGY",
        "colab": {
          "base_uri": "https://localhost:8080/",
          "height": 119
        },
        "outputId": "018daa84-b2d1-4881-fbdb-9d992ed46fb0"
      },
      "source": [
        "valid_df=pd.DataFrame(columns = column_names)\n",
        "valid_df = file_to_df(valid_fname, valid_df)\n",
        "print(\"File -> Dataframe successful\")  "
      ],
      "execution_count": null,
      "outputs": [
        {
          "output_type": "stream",
          "text": [
            "0\n",
            "1000\n",
            "2000\n",
            "3000\n",
            "4000\n",
            "File -> Dataframe successful\n"
          ],
          "name": "stdout"
        }
      ]
    },
    {
      "cell_type": "code",
      "metadata": {
        "id": "wfCHRytv6kd6",
        "colab": {
          "base_uri": "https://localhost:8080/",
          "height": 51
        },
        "outputId": "5cf58456-0688-441a-916d-6f4cb2897c06"
      },
      "source": [
        "validX = valid_df.iloc[:,:-1]\n",
        "validY = valid_df.iloc[:,-1]\n",
        "\n",
        "validX = clean_df(validX, categorical_cols)\n",
        "\n",
        "validX_ohe = one_hot_encode(validX, categorical_cols, attr_dict)\n",
        "print(validX_ohe.shape)\n",
        "validY_e = encode_labels(validY, [' <=50K',' >50K'])\n",
        "print(validY_e.shape)"
      ],
      "execution_count": null,
      "outputs": [
        {
          "output_type": "stream",
          "text": [
            "(4884, 105)\n",
            "(4884, 2)\n"
          ],
          "name": "stdout"
        }
      ]
    },
    {
      "cell_type": "code",
      "metadata": {
        "id": "kRSBJ--fFzS9",
        "colab": {
          "base_uri": "https://localhost:8080/",
          "height": 221
        },
        "outputId": "fd20057a-7647-4a76-f95d-0b56b5d6939a"
      },
      "source": [
        "test_df=pd.DataFrame(columns = column_names)\n",
        "test_df = file_to_df(test_fname, test_df)\n",
        "# print(\"File -> Dataframe successful\")  \n",
        "testX = test_df.iloc[:,:-1]\n",
        "testX = clean_df(testX, categorical_cols)\n",
        "testX_ohe = one_hot_encode(testX, categorical_cols, attr_dict)\n",
        "# print(testX_ohe.shape)"
      ],
      "execution_count": null,
      "outputs": [
        {
          "output_type": "stream",
          "text": [
            "0\n",
            "1000\n",
            "2000\n",
            "3000\n",
            "4000\n",
            "5000\n",
            "6000\n",
            "7000\n",
            "8000\n",
            "9000\n",
            "File -> Dataframe successful\n",
            "(9768, 105)\n"
          ],
          "name": "stdout"
        }
      ]
    },
    {
      "cell_type": "code",
      "metadata": {
        "id": "b3T-nJr2lqoX"
      },
      "source": [
        "np.save(\"census_trainY_encoded\", trainY_e)\n",
        "np.save(\"census_validY_encoded\", validY_e)"
      ],
      "execution_count": null,
      "outputs": []
    },
    {
      "cell_type": "code",
      "metadata": {
        "id": "Pb5PHFRW6SPx"
      },
      "source": [
        "trainX_ohe = np.load(\"drive/My Drive/asgn3/data/census/census_trainX_encoded.npy\")\n",
        "trainY_e = np.load(\"drive/My Drive/asgn3/data/census/census_trainY_encoded.npy\")\n",
        "\n",
        "validX_ohe = np.load(\"drive/My Drive/asgn3/data/census/census_validX_encoded.npy\")\n",
        "validY_e = np.load(\"drive/My Drive/asgn3/data/census/census_validY_encoded.npy\")\n",
        "\n",
        "testX_ohe = np.load(\"drive/My Drive/asgn3/data/census/census_testX_encoded.npy\")"
      ],
      "execution_count": null,
      "outputs": []
    },
    {
      "cell_type": "code",
      "metadata": {
        "id": "D6Ph_XFqFImD",
        "colab": {
          "base_uri": "https://localhost:8080/",
          "height": 1183
        },
        "outputId": "892655cf-ebd9-488a-82ac-04a692c08b26"
      },
      "source": [
        "dim_input = 105 # change this according to your encoding of the input features\n",
        "dim_output = 2 # binary class classification can be done using sigmoid\n",
        "\n",
        "max_epochs = 50\n",
        "learn_rate = 2e-5\n",
        "batch_size = 100\n",
        "\n",
        "train_size = trainX_ohe.shape[0]\n",
        "# Create Computation Graph\n",
        "nn_instance = myNeuralNet(dim_input, dim_output)\n",
        "nn_instance.addHiddenLayer(1024, activation_fn=tf.nn.relu6, regularizer_fn = tf.nn.l2_loss, regularizer_wgt=0.01)\n",
        "nn_instance.addHiddenLayer(512, activation_fn=tf.nn.relu, regularizer_fn = tf.nn.l2_loss, regularizer_wgt=0.01)\n",
        "nn_instance.addHiddenLayer(256, activation_fn=tf.nn.relu6, regularizer_fn = tf.nn.l2_loss, regularizer_wgt=0.01)\n",
        "# add more hidden layers here by calling addHiddenLayer as much as you want\n",
        "# a net of depth 3 should be sufficient for most tasks\n",
        "nn_instance.addFinalLayer()\n",
        "nn_instance.setup_training(learn_rate)\n",
        "nn_instance.setup_metrics()\n",
        "\n",
        "# Instantiate Session\n",
        "with tf.Session() as sess:\n",
        "\tsess.run(tf.global_variables_initializer())\n",
        "\n",
        "\ttest_pred = nn_instance.train(sess, max_epochs, batch_size, train_size, trainX_ohe, trainY_e, validX_ohe, validY_e, testX_ohe, print_step = 500)"
      ],
      "execution_count": null,
      "outputs": [
        {
          "output_type": "stream",
          "text": [
            "Step:  0  Training_Loss:  8.9068775  Val_Loss:  8.492095  Val_Acc:  0.24447174\n",
            "Step:  500  Training_Loss:  5.9748635  Val_Loss:  5.921791  Val_Acc:  0.79095006\n",
            "Step:  1000  Training_Loss:  4.8297067  Val_Loss:  4.82841  Val_Acc:  0.79095006\n",
            "Step:  1500  Training_Loss:  4.0010643  Val_Loss:  3.99517  Val_Acc:  0.791769\n",
            "Step:  2000  Training_Loss:  3.358765  Val_Loss:  3.3772624  Val_Acc:  0.7903358\n",
            "Step:  2500  Training_Loss:  3.0005186  Val_Loss:  2.8873785  Val_Acc:  0.79463553\n",
            "Step:  3000  Training_Loss:  2.49367  Val_Loss:  2.4991086  Val_Acc:  0.7956593\n",
            "Step:  3500  Training_Loss:  2.184835  Val_Loss:  2.18611  Val_Acc:  0.79361176\n",
            "Step:  4000  Training_Loss:  1.9237235  Val_Loss:  1.9259458  Val_Acc:  0.7940213\n",
            "Step:  4500  Training_Loss:  1.6444868  Val_Loss:  1.7193025  Val_Acc:  0.7923833\n",
            "Step:  5000  Training_Loss:  1.5863786  Val_Loss:  1.5333651  Val_Acc:  0.79197377\n",
            "Step:  5500  Training_Loss:  1.5296702  Val_Loss:  1.4000582  Val_Acc:  0.7889025\n",
            "Step:  6000  Training_Loss:  1.2086508  Val_Loss:  1.2588035  Val_Acc:  0.7964783\n",
            "Step:  6500  Training_Loss:  1.1272306  Val_Loss:  1.1572319  Val_Acc:  0.795045\n",
            "Step:  7000  Training_Loss:  1.0544949  Val_Loss:  1.0711763  Val_Acc:  0.7940213\n",
            "Step:  7500  Training_Loss:  0.96788305  Val_Loss:  0.99672747  Val_Acc:  0.7921786\n",
            "Step:  8000  Training_Loss:  0.9778021  Val_Loss:  0.94221604  Val_Acc:  0.793407\n",
            "Step:  8500  Training_Loss:  0.89513016  Val_Loss:  0.8947289  Val_Acc:  0.79258806\n",
            "Step:  9000  Training_Loss:  0.8417678  Val_Loss:  0.85145247  Val_Acc:  0.7923833\n",
            "Step:  9500  Training_Loss:  0.7737174  Val_Loss:  0.8162689  Val_Acc:  0.79586405\n",
            "Step:  10000  Training_Loss:  0.8581289  Val_Loss:  0.78904605  Val_Acc:  0.7927928\n",
            "Step:  10500  Training_Loss:  0.7269408  Val_Loss:  0.7692348  Val_Acc:  0.7903358\n",
            "Step:  11000  Training_Loss:  0.7480575  Val_Loss:  0.75165  Val_Acc:  0.7907453\n",
            "Step:  11500  Training_Loss:  0.7314906  Val_Loss:  0.72891045  Val_Acc:  0.7921786\n",
            "Step:  12000  Training_Loss:  0.6110165  Val_Loss:  0.71406657  Val_Acc:  0.79197377\n",
            "Step:  12500  Training_Loss:  0.746063  Val_Loss:  0.6998138  Val_Acc:  0.791769\n",
            "Step:  13000  Training_Loss:  0.7462021  Val_Loss:  0.6904738  Val_Acc:  0.78972155\n",
            "Step:  13500  Training_Loss:  0.599108  Val_Loss:  0.66955966  Val_Acc:  0.79299754\n",
            "Step:  14000  Training_Loss:  0.61615086  Val_Loss:  0.6579013  Val_Acc:  0.79197377\n",
            "Step:  14500  Training_Loss:  0.58631116  Val_Loss:  0.6470904  Val_Acc:  0.79299754\n",
            "Step:  15000  Training_Loss:  0.6105474  Val_Loss:  0.6369556  Val_Acc:  0.79299754\n",
            "Step:  15500  Training_Loss:  0.6675012  Val_Loss:  0.627793  Val_Acc:  0.79197377\n",
            "Step:  16000  Training_Loss:  0.5911596  Val_Loss:  0.6201774  Val_Acc:  0.79361176\n",
            "Step:  16500  Training_Loss:  0.63739717  Val_Loss:  0.6109793  Val_Acc:  0.79095006\n",
            "Step:  17000  Training_Loss:  0.60273576  Val_Loss:  0.6022379  Val_Acc:  0.7911548\n",
            "Step:  17049  Training_Loss:  0.66825867  Val_Loss:  0.6015483  Val_Acc:  0.7903358\n"
          ],
          "name": "stdout"
        },
        {
          "output_type": "display_data",
          "data": {
            "image/png": "[encoded data removed]",
            "text/plain": [
              "<matplotlib.figure.Figure at 0x7f39d3594ba8>"
            ]
          },
          "metadata": {
            "tags": []
          }
        },
        {
          "output_type": "display_data",
          "data": {
            "image/png": "[encoded data removed]",
            "text/plain": [
              "<matplotlib.figure.Figure at 0x7f39d246aba8>"
            ]
          },
          "metadata": {
            "tags": []
          }
        }
      ]
    },
    {
      "cell_type": "markdown",
      "metadata": {
        "id": "zFmMqWY0UXTH"
      },
      "source": [
        "max_epochs = 50<br>\n",
        "learn_rate = 2e-5<br>\n",
        "batch_size = 100\n",
        "\n",
        "L2 reg (wgt:0.01 on all layers)\n",
        "\n",
        "Training_Loss:   0.66584635  \n",
        "Val_Loss:  0.6014128  \n",
        "Val_Acc: 0.791769\n",
        "\n",
        "1024 ReLU6<br>\n",
        "512 ReLU<br>\n",
        "256 ReLU6"
      ]
    },
    {
      "cell_type": "code",
      "metadata": {
        "id": "03ns3P1lVoxR"
      },
      "source": [
        "np.savetxt(\"prediction_census.txt\", test_pred, fmt = \"%u\")"
      ],
      "execution_count": null,
      "outputs": []
    },
    {
      "cell_type": "code",
      "metadata": {
        "id": "bErv8lfypPbD"
      },
      "source": [
        "with open(\"predictions_census.txt\",\"w\") as file:\n",
        "  for i in range(test_pred.shape[0]):\n",
        "    if test_pred[i]==0:\n",
        "      file.write(\"<=50K\\n\")\n",
        "    else:\n",
        "      file.write(\">50K\\n\")\n",
        "     "
      ],
      "execution_count": null,
      "outputs": []
    },
    {
      "cell_type": "code",
      "metadata": {
        "id": "XHs7lol7pPMb",
        "colab": {
          "base_uri": "https://localhost:8080/",
          "height": 34
        },
        "outputId": "979773f2-8abf-47c6-f459-cdcbf9ab6b8e"
      },
      "source": [
        "file = open(\"predictions_census.txt\",\"r\")\n",
        "print(len(file.readlines()))\n",
        "file.close()"
      ],
      "execution_count": null,
      "outputs": [
        {
          "output_type": "stream",
          "text": [
            "9768\n"
          ],
          "name": "stdout"
        }
      ]
    },
    {
      "cell_type": "code",
      "metadata": {
        "id": "-a9EtJwguy19"
      },
      "source": [
        "class convNet:\n",
        "  \n",
        "  def __init__(self, dim_input_data, dim_output_data):\n",
        "\t\t\n",
        "    self.dim_input_data = dim_input_data\n",
        "    self.dim_output_data = dim_output_data\n",
        "    self.num_layers = 1\n",
        "    self.layers={}\n",
        "    self.trainX=tf.placeholder(tf.float32, self.dim_input_data, name=\"input_features\")\n",
        "    self.trainY=tf.placeholder(tf.float32, [None, dim_output_data], name=\"output_labels\")\n",
        "    self.curr_layer = self.trainX\n",
        "  \n",
        "#   def reshape_input_dim(features, height, width, channels = 1):\n",
        "#     self.layers['inp_layer'] = tf.reshape(features, [-1, height, width, channels])\n",
        "#     self.curr_layer = self.layers['inp_layer']\n",
        "#     self.num_layers+=1\n",
        "    \n",
        "    \n",
        "  def add_conv_layer(self, filters, kernel, padding = \"same\", activation_fn = None):\n",
        "    self.layers['conv'+str(self.num_layers)] = tf.layers.conv2d(inputs = self.curr_layer, filters = filters, kernel_size = kernel, padding = padding, activation = activation_fn)\n",
        "    self.curr_layer = self.layers['conv'+str(self.num_layers)]\n",
        "    self.num_layers+=1\n",
        "    \n",
        "  def add_pooling_layer(self, pool_size, pool_type = tf.layers.max_pooling2d, stride = 1):\n",
        "    self.layers['pool'+str(self.num_layers)] = pool_type(inputs=self.curr_layer, pool_size=pool_size, strides=stride)\n",
        "    self.curr_layer = self.layers['pool'+str(self.num_layers)]\n",
        "    self.num_layers+=1\n",
        "    \n",
        "  def add_dense_layer(self, num_units, activation_fn = None):\n",
        "    self.layers['last_layer_flat'] = tf.reshape(self.curr_layer, [-1, self.curr_layer.shape[1]*self.curr_layer.shape[2]*self.curr_layer.shape[3]])\n",
        "    self.layers['dense'] = tf.layers.dense(self.layers['last_layer_flat'], units=num_units, activation=activation_fn)\n",
        "    self.curr_layer = self.layers['dense']\n",
        "    self.num_layers+=1\n",
        "    \n",
        "  def add_final_layer(self, activation_fn = None):\n",
        "    self.layers['logits'] = tf.layers.dense(inputs=self.curr_layer, units=self.dim_output_data, activation = activation_fn)\n",
        "    self.predictions = tf.nn.softmax(self.layers['logits'])\n",
        "    self.num_layers+=1\n",
        "    \n",
        "  def setup_training(self, learn_rate):\n",
        "    self.loss = tf.reduce_mean(tf.nn.softmax_cross_entropy_with_logits_v2(logits=self.predictions, labels = self.trainY))\n",
        "    self.train_step = tf.train.AdamOptimizer(learn_rate).minimize(self.loss)\n",
        "\t\t\n",
        "  def setup_metrics(self):\n",
        "    self.correct_prediction = tf.equal(tf.argmax(self.predictions, 1), tf.argmax(self.trainY, 1))\n",
        "    self.accuracy = tf.reduce_mean(tf.cast(self.correct_prediction, tf.float32), name=\"Accuracy\")\n",
        "    \n",
        "  def train(self, sess, max_epochs, batch_size, train_size, train_x, train_y, valid_x, valid_y, test_x, print_step = 100): # valid_size, test_size, etc\n",
        "    steps_per_epoch = int(train_size/batch_size)\n",
        "    max_steps = max_epochs * steps_per_epoch\n",
        "    train_losses=[]\n",
        "    valid_losses=[]\n",
        "    valid_accuracies=[]\n",
        "    valid_steps=[]\n",
        "    for step in range(max_steps):\n",
        "      offset = (step * batch_size) % (train_size - batch_size)\n",
        "      batch_data = train_x[offset:(offset + batch_size), :]\n",
        "      batch_labels = train_y[offset:(offset + batch_size), :]\n",
        "      _, train_loss = sess.run([self.train_step, self.loss], feed_dict={self.trainX: batch_data, self.trainY: batch_labels})\n",
        "      \n",
        "      if (step % print_step) == 0 or step == max_steps-1:\n",
        "        val_acc, val_loss = sess.run([self.accuracy, self.loss], feed_dict={self.trainX: valid_x, self.trainY: valid_y})\n",
        "        print(\"Step: \", step, \" Training_Loss: \", train_loss, \" Val_Loss: \", val_loss, \" Val_Acc: \", val_acc)\n",
        "        train_losses.append(train_loss)\n",
        "        valid_losses.append(val_loss)\n",
        "        valid_accuracies.append(val_acc)\n",
        "        valid_steps.append(step)\n",
        "\t\t\t\n",
        "    plt.title(\"Training/Validation Losses\")\n",
        "    plt.xlabel(\"Steps\")\n",
        "    plt.ylabel(\"Loss\")\n",
        "    plt.plot(valid_steps, valid_losses, label=\"Validation Loss\")\n",
        "    plt.plot(valid_steps, train_losses, label=\"Training Loss\")\n",
        "    plt.legend(loc=0)\n",
        "    plt.show()\n",
        "    \n",
        "    plt.title(\"Validation Accuracy\")\n",
        "    plt.xlabel(\"Steps\")\n",
        "    plt.ylabel(\"Accuracy\")\n",
        "    plt.plot(valid_steps, valid_accuracies)\n",
        "    plt.show()\n",
        "    \n",
        "    test_prediction = sess.run(self.predictions, feed_dict={self.trainX: test_x})\n",
        "    test_prediction = np.array(test_prediction).argmax(axis = 1)\n",
        "    return test_prediction"
      ],
      "execution_count": null,
      "outputs": []
    },
    {
      "cell_type": "code",
      "metadata": {
        "id": "qEDsUM7lEUHx",
        "colab": {
          "base_uri": "https://localhost:8080/",
          "height": 2475
        },
        "outputId": "1cc39205-85c3-4209-c072-ecc8b2a997df"
      },
      "source": [
        "xtrain = np.load('/content/drive/My Drive/asgn3/data/mnist/xtrain.npy')\n",
        "xtrain = np.reshape(xtrain, (xtrain.shape[0], 28, 28, 1))\n",
        "ytrain = np.load('/content/drive/My Drive/asgn3/data/mnist/ytrain.npy')\n",
        "\n",
        "xval = np.load('/content/drive/My Drive/asgn3/data/mnist/xval.npy')\n",
        "xval = np.reshape(xval, (xval.shape[0], 28, 28, 1))\n",
        "yval = np.load('/content/drive/My Drive/asgn3/data/mnist/yval.npy')\n",
        "\n",
        "xtest = np.load('/content/drive/My Drive/asgn3/data/mnist/xtest.npy')\n",
        "xtest = np.reshape(xtest, (xtest.shape[0], 28, 28, 1))\n",
        "\n",
        "dim_input = [None, 28, 28, 1]\n",
        "dim_output = 10\n",
        "\n",
        "max_epochs = 10\n",
        "learn_rate = 1e-4\n",
        "batch_size = 50\n",
        "\n",
        "train_size = len(xtrain)\n",
        "valid_size = len(xval)\n",
        "test_size = len(xtest)\n",
        "\n",
        "total_images = []\n",
        "total_labels = []\n",
        "\n",
        "# Create Computation Graph\n",
        "cnn_instance = convNet(dim_input, dim_output)\n",
        "# cnn_instance.reshape_input_dim(xtrain, 28, 28)\n",
        "cnn_instance.add_conv_layer(32, 5, \"same\")\n",
        "cnn_instance.add_pooling_layer([2,2], tf.layers.max_pooling2d, 2)\n",
        "cnn_instance.add_conv_layer(64, 5, \"same\")\n",
        "cnn_instance.add_pooling_layer([2,2], tf.layers.max_pooling2d, 2)\n",
        "cnn_instance.add_conv_layer(128, 5, \"same\", tf.nn.relu)\n",
        "cnn_instance.add_pooling_layer([2,2], tf.layers.max_pooling2d, 2)\n",
        "cnn_instance.add_dense_layer(2048, tf.nn.relu)\n",
        "cnn_instance.add_final_layer()\n",
        "cnn_instance.setup_training(learn_rate)\n",
        "cnn_instance.setup_metrics()\n",
        "\n",
        "# Training steps\n",
        "with tf.Session() as sess:\n",
        "\tsess.run(tf.global_variables_initializer())\n",
        "\ttest_pred = cnn_instance.train(sess, max_epochs, batch_size, train_size, xtrain, ytrain, xval, yval, xtest, print_step = 100)"
      ],
      "execution_count": null,
      "outputs": [
        {
          "output_type": "stream",
          "text": [
            "Step:  0  Training_Loss:  2.3025837  Val_Loss:  2.3016875  Val_Acc:  0.15398887\n",
            "Step:  100  Training_Loss:  1.8317056  Val_Loss:  1.790469  Val_Acc:  0.69470215\n",
            "Step:  200  Training_Loss:  1.6662866  Val_Loss:  1.7272657  Val_Acc:  0.73840445\n",
            "Step:  300  Training_Loss:  1.6824509  Val_Loss:  1.6702665  Val_Acc:  0.80643165\n",
            "Step:  400  Training_Loss:  1.6518115  Val_Loss:  1.6223928  Val_Acc:  0.84374356\n",
            "Step:  500  Training_Loss:  1.5813518  Val_Loss:  1.5286932  Val_Acc:  0.94166154\n",
            "Step:  600  Training_Loss:  1.5123254  Val_Loss:  1.5207063  Val_Acc:  0.9459905\n",
            "Step:  700  Training_Loss:  1.4995767  Val_Loss:  1.5143998  Val_Acc:  0.95196867\n",
            "Step:  800  Training_Loss:  1.5045981  Val_Loss:  1.5165688  Val_Acc:  0.94949496\n",
            "Step:  900  Training_Loss:  1.4877472  Val_Loss:  1.5153272  Val_Acc:  0.94990724\n",
            "Step:  1000  Training_Loss:  1.4905863  Val_Loss:  1.507304  Val_Acc:  0.9573284\n",
            "Step:  1100  Training_Loss:  1.5280728  Val_Loss:  1.5096858  Val_Acc:  0.9554731\n",
            "Step:  1200  Training_Loss:  1.4816055  Val_Loss:  1.5018039  Val_Acc:  0.9616574\n",
            "Step:  1300  Training_Loss:  1.4617069  Val_Loss:  1.50642  Val_Acc:  0.9573284\n",
            "Step:  1400  Training_Loss:  1.4873612  Val_Loss:  1.4982984  Val_Acc:  0.965368\n",
            "Step:  1500  Training_Loss:  1.5024556  Val_Loss:  1.4957479  Val_Acc:  0.96825397\n",
            "Step:  1600  Training_Loss:  1.4651867  Val_Loss:  1.4945979  Val_Acc:  0.9694908\n",
            "Step:  1700  Training_Loss:  1.4816304  Val_Loss:  1.4889518  Val_Acc:  0.97423214\n",
            "Step:  1800  Training_Loss:  1.5224762  Val_Loss:  1.5001476  Val_Acc:  0.96351266\n",
            "Step:  1900  Training_Loss:  1.4824127  Val_Loss:  1.4898705  Val_Acc:  0.972583\n",
            "Step:  2000  Training_Loss:  1.5063319  Val_Loss:  1.4908853  Val_Acc:  0.97155225\n",
            "Step:  2100  Training_Loss:  1.4753281  Val_Loss:  1.486811  Val_Acc:  0.9760874\n",
            "Step:  2200  Training_Loss:  1.4915314  Val_Loss:  1.4863406  Val_Acc:  0.975469\n",
            "Step:  2300  Training_Loss:  1.4845549  Val_Loss:  1.4887344  Val_Acc:  0.97485054\n",
            "Step:  2400  Training_Loss:  1.5010055  Val_Loss:  1.4917883  Val_Acc:  0.97134614\n",
            "Step:  2500  Training_Loss:  1.463285  Val_Loss:  1.4922982  Val_Acc:  0.9717584\n",
            "Step:  2600  Training_Loss:  1.483797  Val_Loss:  1.486773  Val_Acc:  0.9752628\n",
            "Step:  2700  Training_Loss:  1.5019222  Val_Loss:  1.4840825  Val_Acc:  0.9785611\n",
            "Step:  2800  Training_Loss:  1.4813565  Val_Loss:  1.4909667  Val_Acc:  0.972583\n",
            "Step:  2900  Training_Loss:  1.5318266  Val_Loss:  1.4942232  Val_Acc:  0.9676355\n",
            "Step:  3000  Training_Loss:  1.4776379  Val_Loss:  1.4859207  Val_Acc:  0.97629356\n",
            "Step:  3100  Training_Loss:  1.5215071  Val_Loss:  1.4835309  Val_Acc:  0.9781488\n",
            "Step:  3200  Training_Loss:  1.4614251  Val_Loss:  1.481113  Val_Acc:  0.9810348\n",
            "Step:  3300  Training_Loss:  1.4667273  Val_Loss:  1.4825193  Val_Acc:  0.97959185\n",
            "Step:  3400  Training_Loss:  1.4615989  Val_Loss:  1.4816203  Val_Acc:  0.98021024\n",
            "Step:  3500  Training_Loss:  1.4915081  Val_Loss:  1.4805313  Val_Acc:  0.9810348\n",
            "Step:  3600  Training_Loss:  1.4955394  Val_Loss:  1.4812979  Val_Acc:  0.9810348\n",
            "Step:  3700  Training_Loss:  1.4615124  Val_Loss:  1.4817557  Val_Acc:  0.98000413\n",
            "Step:  3800  Training_Loss:  1.4853748  Val_Loss:  1.4795254  Val_Acc:  0.9839208\n",
            "Step:  3900  Training_Loss:  1.4706359  Val_Loss:  1.4793246  Val_Acc:  0.98268396\n",
            "Step:  4000  Training_Loss:  1.4853296  Val_Loss:  1.4804211  Val_Acc:  0.9814471\n",
            "Step:  4100  Training_Loss:  1.4769471  Val_Loss:  1.4793653  Val_Acc:  0.9822717\n",
            "Step:  4200  Training_Loss:  1.4811548  Val_Loss:  1.4803019  Val_Acc:  0.9818594\n",
            "Step:  4300  Training_Loss:  1.4643204  Val_Loss:  1.4824398  Val_Acc:  0.9789734\n",
            "Step:  4400  Training_Loss:  1.48281  Val_Loss:  1.4787852  Val_Acc:  0.9828901\n",
            "Step:  4500  Training_Loss:  1.47986  Val_Loss:  1.4777981  Val_Acc:  0.984127\n",
            "Step:  4600  Training_Loss:  1.4986987  Val_Loss:  1.4796004  Val_Acc:  0.98268396\n",
            "Step:  4700  Training_Loss:  1.481072  Val_Loss:  1.4782702  Val_Acc:  0.98309624\n",
            "Step:  4800  Training_Loss:  1.4811825  Val_Loss:  1.480363  Val_Acc:  0.9816533\n",
            "Step:  4900  Training_Loss:  1.463672  Val_Loss:  1.4806631  Val_Acc:  0.98247784\n",
            "Step:  5000  Training_Loss:  1.4991739  Val_Loss:  1.4811494  Val_Acc:  0.98206556\n",
            "Step:  5100  Training_Loss:  1.483017  Val_Loss:  1.4807894  Val_Acc:  0.9810348\n",
            "Step:  5200  Training_Loss:  1.4614742  Val_Loss:  1.47672  Val_Acc:  0.9845393\n",
            "Step:  5300  Training_Loss:  1.4950315  Val_Loss:  1.4801686  Val_Acc:  0.98206556\n",
            "Step:  5400  Training_Loss:  1.4617218  Val_Loss:  1.4781073  Val_Acc:  0.9839208\n",
            "Step:  5500  Training_Loss:  1.4668567  Val_Loss:  1.4766289  Val_Acc:  0.98557\n",
            "Step:  5600  Training_Loss:  1.5011309  Val_Loss:  1.4775858  Val_Acc:  0.9835085\n",
            "Step:  5700  Training_Loss:  1.4642361  Val_Loss:  1.4766797  Val_Acc:  0.98495156\n",
            "Step:  5800  Training_Loss:  1.4820453  Val_Loss:  1.4793998  Val_Acc:  0.9822717\n",
            "Step:  5900  Training_Loss:  1.4617856  Val_Loss:  1.4791377  Val_Acc:  0.9837147\n",
            "Step:  6000  Training_Loss:  1.4834075  Val_Loss:  1.4778944  Val_Acc:  0.98474544\n",
            "Step:  6100  Training_Loss:  1.4936963  Val_Loss:  1.4789236  Val_Acc:  0.98268396\n",
            "Step:  6200  Training_Loss:  1.4720389  Val_Loss:  1.4764975  Val_Acc:  0.98474544\n",
            "Step:  6300  Training_Loss:  1.4811896  Val_Loss:  1.4751225  Val_Acc:  0.98763144\n",
            "Step:  6400  Training_Loss:  1.4818072  Val_Loss:  1.4776667  Val_Acc:  0.9837147\n",
            "Step:  6500  Training_Loss:  1.480061  Val_Loss:  1.4750701  Val_Acc:  0.9866007\n",
            "Step:  6600  Training_Loss:  1.4613104  Val_Loss:  1.4736542  Val_Acc:  0.98824984\n",
            "Step:  6700  Training_Loss:  1.4613074  Val_Loss:  1.4736838  Val_Acc:  0.98824984\n",
            "Step:  6800  Training_Loss:  1.4611913  Val_Loss:  1.4746281  Val_Acc:  0.98742527\n",
            "Step:  6900  Training_Loss:  1.4621787  Val_Loss:  1.4747479  Val_Acc:  0.987013\n",
            "Step:  7000  Training_Loss:  1.4919684  Val_Loss:  1.4844122  Val_Acc:  0.97732425\n",
            "Step:  7100  Training_Loss:  1.4810922  Val_Loss:  1.4769326  Val_Acc:  0.98557\n",
            "Step:  7200  Training_Loss:  1.4720176  Val_Loss:  1.4760623  Val_Acc:  0.98536384\n",
            "Step:  7300  Training_Loss:  1.4867252  Val_Loss:  1.4747471  Val_Acc:  0.98763144\n",
            "Step:  7400  Training_Loss:  1.4738355  Val_Loss:  1.4753131  Val_Acc:  0.9857761\n",
            "Step:  7500  Training_Loss:  1.4617016  Val_Loss:  1.4778123  Val_Acc:  0.9833024\n",
            "Step:  7600  Training_Loss:  1.4611567  Val_Loss:  1.4749279  Val_Acc:  0.9863946\n",
            "Step:  7700  Training_Loss:  1.4649918  Val_Loss:  1.4758822  Val_Acc:  0.9851577\n",
            "Step:  7800  Training_Loss:  1.481134  Val_Loss:  1.4760976  Val_Acc:  0.9859823\n",
            "Step:  7900  Training_Loss:  1.4614867  Val_Loss:  1.4727193  Val_Acc:  0.9886621\n",
            "Step:  8000  Training_Loss:  1.4811684  Val_Loss:  1.4732765  Val_Acc:  0.9886621\n",
            "Step:  8100  Training_Loss:  1.4694235  Val_Loss:  1.4774096  Val_Acc:  0.9845393\n",
            "Step:  8200  Training_Loss:  1.4625897  Val_Loss:  1.4744279  Val_Acc:  0.98721915\n",
            "Step:  8300  Training_Loss:  1.4779761  Val_Loss:  1.4741236  Val_Acc:  0.98783755\n",
            "Step:  8400  Training_Loss:  1.4641184  Val_Loss:  1.473608  Val_Acc:  0.98742527\n",
            "Step:  8500  Training_Loss:  1.4621038  Val_Loss:  1.4735606  Val_Acc:  0.98742527\n",
            "Step:  8600  Training_Loss:  1.4817804  Val_Loss:  1.4756862  Val_Acc:  0.98680687\n",
            "Step:  8700  Training_Loss:  1.4811777  Val_Loss:  1.4744247  Val_Acc:  0.98721915\n",
            "Step:  8800  Training_Loss:  1.4612002  Val_Loss:  1.4723961  Val_Acc:  0.98969287\n",
            "Step:  8900  Training_Loss:  1.4724617  Val_Loss:  1.4758402  Val_Acc:  0.9857761\n",
            "Step:  9000  Training_Loss:  1.4612432  Val_Loss:  1.4779896  Val_Acc:  0.9828901\n",
            "Step:  9100  Training_Loss:  1.4739969  Val_Loss:  1.4727807  Val_Acc:  0.9886621\n",
            "Step:  9200  Training_Loss:  1.4614365  Val_Loss:  1.4744594  Val_Acc:  0.98763144\n",
            "Step:  9300  Training_Loss:  1.477218  Val_Loss:  1.4738585  Val_Acc:  0.98763144\n",
            "Step:  9400  Training_Loss:  1.4637223  Val_Loss:  1.4734899  Val_Acc:  0.9880437\n",
            "Step:  9500  Training_Loss:  1.462187  Val_Loss:  1.4733808  Val_Acc:  0.988456\n",
            "Step:  9600  Training_Loss:  1.479309  Val_Loss:  1.473974  Val_Acc:  0.98783755\n",
            "Step:  9700  Training_Loss:  1.4805189  Val_Loss:  1.4739845  Val_Acc:  0.98721915\n",
            "Step:  9800  Training_Loss:  1.4648818  Val_Loss:  1.4772371  Val_Acc:  0.98536384\n",
            "Step:  9900  Training_Loss:  1.4705992  Val_Loss:  1.4728671  Val_Acc:  0.9886621\n",
            "Step:  10000  Training_Loss:  1.4772323  Val_Loss:  1.4777787  Val_Acc:  0.9837147\n",
            "Step:  10100  Training_Loss:  1.4628837  Val_Loss:  1.4727513  Val_Acc:  0.9888683\n",
            "Step:  10200  Training_Loss:  1.4611799  Val_Loss:  1.4727424  Val_Acc:  0.9886621\n",
            "Step:  10300  Training_Loss:  1.461168  Val_Loss:  1.4723252  Val_Acc:  0.9892806\n",
            "Step:  10400  Training_Loss:  1.5012076  Val_Loss:  1.4726743  Val_Acc:  0.9888683\n",
            "Step:  10500  Training_Loss:  1.4611757  Val_Loss:  1.4721093  Val_Acc:  0.9892806\n",
            "Step:  10600  Training_Loss:  1.4815081  Val_Loss:  1.4765431  Val_Acc:  0.9845393\n",
            "Step:  10700  Training_Loss:  1.474078  Val_Loss:  1.4731978  Val_Acc:  0.9880437\n",
            "Step:  10800  Training_Loss:  1.4611512  Val_Loss:  1.4721617  Val_Acc:  0.989899\n",
            "Step:  10900  Training_Loss:  1.4801815  Val_Loss:  1.472864  Val_Acc:  0.9892806\n",
            "Step:  11000  Training_Loss:  1.4618063  Val_Loss:  1.472332  Val_Acc:  0.9888683\n",
            "Step:  11059  Training_Loss:  1.4614254  Val_Loss:  1.4746231  Val_Acc:  0.9863946\n"
          ],
          "name": "stdout"
        },
        {
          "output_type": "display_data",
          "data": {
            "image/png": "[encoded data removed]",
            "text/plain": [
              "<matplotlib.figure.Figure at 0x7f39d1f800f0>"
            ]
          },
          "metadata": {
            "tags": []
          }
        },
        {
          "output_type": "display_data",
          "data": {
            "image/png": "[encoded data removed]",
            "text/plain": [
              "<matplotlib.figure.Figure at 0x7f39d1048e10>"
            ]
          },
          "metadata": {
            "tags": []
          }
        }
      ]
    },
    {
      "cell_type": "markdown",
      "metadata": {
        "id": "QR1zcJAjR4hS"
      },
      "source": [
        "Training_Loss:  1.4663156<br>\n",
        "Val_Loss:  1.4756608  <br>\n",
        "Val_Acc:  0.98557"
      ]
    },
    {
      "cell_type": "code",
      "metadata": {
        "id": "0EpbwWimEq07"
      },
      "source": [
        "test_pred = np.array(test_pred).argmax(axis = 1)"
      ],
      "execution_count": null,
      "outputs": []
    },
    {
      "cell_type": "code",
      "metadata": {
        "id": "4sjhGR7iVWmF"
      },
      "source": [
        "np.save(\"predictions_mnist_cnn\",test_pred)\n"
      ],
      "execution_count": null,
      "outputs": []
    }
  ]
}