{
 "cells": [
  {
   "cell_type": "code",
   "execution_count": 5,
   "metadata": {},
   "outputs": [],
   "source": [
    "from scipy.optimize import minimize\n",
    "\n",
    "import utils\n",
    "import numpy as np\n",
    "\n",
    "class DataLoader(object):\n",
    "    # this class has a standard iterator declared\n",
    "    # __len__ returns the number of batches (size of the object)\n",
    "    # __get_item__ handles integer based indexing of the object \n",
    "    def __init__(self, data_file, batch_size):\n",
    "        with open(data_file, 'r') as df:\n",
    "            data = df.readlines()\n",
    "\n",
    "        data = data[1:]\n",
    "        data = data[:(len(data)//batch_size)*batch_size]\n",
    "        np.random.shuffle(data)\n",
    "        data = np.array([[float(col) for col in row.split(',')] for row in data])\n",
    "        input_data, targets = data[:, :-1], data[:, -1]\n",
    "        input_data = np.hstack([input_data, np.ones((len(input_data), 1), dtype=np.float32)])\n",
    "\n",
    "        self.num_features = input_data.shape[1]\n",
    "        self.current_batch_index = 0\n",
    "        self.input_batches = np.split(input_data, len(input_data)//batch_size)\n",
    "        self.target_batches = np.split(targets, len(targets)//batch_size)\n",
    "\n",
    "    def __len__(self):\n",
    "        return len(self.input_batches)\n",
    "\n",
    "    def __getitem__(self,i):\n",
    "\n",
    "        batch_input_data = self.input_batches[i]\n",
    "        batch_targets = self.target_batches[i]\n",
    "        return batch_input_data, batch_targets\n",
    "\n",
    "def classify(inputs, weights):\n",
    "    #this functions returns w^Tx . The output  is batch_size*1\n",
    "\treturn np.dot(inputs, np.reshape(weights, (np.size(weights), 1)).reshape((-1,)))\n",
    "\n",
    "def get_objective_function(trainx,trainy,loss_type, regularizer_type, loss_weight):\n",
    "    # this function calculates the loss for a current batch\n",
    "    loss_function = utils.loss_functions[loss_type]\n",
    "    if regularizer_type != None:\n",
    "\n",
    "        regularizer_function = utils.regularizer_functions[regularizer_type]\n",
    "    def objective_function(weights):\n",
    "        loss = 0\n",
    "        \n",
    "        inputs, targets = trainx,trainy\n",
    "        outputs = classify(inputs, weights)\n",
    "        loss += loss_weight*loss_function(targets, outputs)\n",
    "        if regularizer_type != None:\n",
    "            # regulariser function is called from utils.py\n",
    "            loss += regularizer_function(weights)\n",
    "        return loss\n",
    "    return objective_function\n",
    "\n",
    "def get_gradient_function(trainx,trainy,loss_type, regularizer_type, loss_weight):\n",
    "    # This is a way to declare function inside a function \n",
    "    # The get_gradient_function receives the train data from the current batch\n",
    "    # and all other parameters on which the loss function and gradient depend\n",
    "    # like C,regulariser_type and loss function\n",
    "    loss_grad_function = utils.loss_grad_functions[loss_type]\n",
    "    if regularizer_type != None:\n",
    "        regularizer_grad_function = utils.regularizer_grad_functions[regularizer_type]\n",
    "    # gradient function is called from scipy.optimise.minimise()\n",
    "    # the only paramter its can send is weights \n",
    "    # hence there was a need to pass the current batch through get_objective_function\n",
    "\n",
    "\n",
    "    def gradient_function(weights):\n",
    "\n",
    "        gradient = np.zeros(len(weights), dtype=np.float32)\n",
    "        X=trainx\n",
    "        Y=trainy\n",
    "        outputs = classify(X,weights)\n",
    "        # loss_grad_function is called from utils.py\n",
    "        gradient = loss_weight*loss_grad_function(weights,X,Y,outputs)/len(trainx)\n",
    "        if regularizer_type != None:\n",
    "            # regulariser grad function is called from utils.py\n",
    "            gradient += regularizer_grad_function(weights)\n",
    "        return gradient\n",
    "    return gradient_function\n",
    "\n",
    "def train(data_loader, loss_type, regularizer_type, loss_weight):\n",
    "    initial_model_parameters = np.random.random((data_loader.num_features))\n",
    "\n",
    "    num_epochs=1000\n",
    "    for i in range(num_epochs):\n",
    "        loss=0\n",
    "        if(i==0):\n",
    "            start_parameters=initial_model_parameters\n",
    "        for j in range(len(data_loader)):\n",
    "            trainx,trainy=data_loader[j]\n",
    "            objective_function = get_objective_function(trainx,trainy,loss_type, \n",
    "                                                regularizer_type,loss_weight)\n",
    "            gradient_function = get_gradient_function(trainx,trainy, loss_type, \n",
    "                                              regularizer_type, loss_weight)\n",
    "            # to know about this function please read about scipy.optimise.minimise\n",
    "            trained_model_parameters = minimize(objective_function, \n",
    "                                        start_parameters, \n",
    "                                        method=\"CG\", \n",
    "                                        jac=gradient_function,\n",
    "                                        options={'disp': False,\n",
    "                                                 'maxiter': 1})\n",
    "            loss+=objective_function(trained_model_parameters.x)\n",
    "            start_parameters=trained_model_parameters.x\n",
    "        # prints the batch loss\n",
    "        print(\"loss is  \",loss)\n",
    "        \n",
    "    print(\"Optimizer information:\")\n",
    "    print(trained_model_parameters)\n",
    "    return trained_model_parameters.x\n",
    "            \n",
    "\n",
    "def test(inputs, weights):\n",
    "    outputs = classify(inputs, weights)\n",
    "    probs = 1/(1+np.exp(-outputs))\n",
    "    # this is done to get all terms in 0 or 1 You can change for -1 and 1\n",
    "    return np.round(probs)\n",
    "\n",
    "def write_csv_file(outputs, output_file):\n",
    "    # dumps the output file\n",
    "    with open(output_file, \"w\") as out_file:\n",
    "        out_file.write(\"ID, Output\\n\")\n",
    "        for i in range(len(outputs)):\n",
    "            out_file.write(\"{}, {}\".format(i+1, str(outputs[i])) + \"\\n\")\n",
    "def get_data(data_file):\n",
    "    with open(data_file, 'r') as df:\n",
    "        data = df.readlines()\n",
    "\n",
    "    data = data[1:]\n",
    "    data = np.array([[float(col) for col in row.split(',')] for row in data])\n",
    "    input_data = np.hstack([data, np.ones((len(data), 1), dtype=np.float32)])\n",
    "\n",
    "    return input_data\n",
    "\n"
   ]
  },
  {
   "cell_type": "code",
   "execution_count": 2,
   "metadata": {
    "scrolled": true
   },
   "outputs": [
    {
     "name": "stdout",
     "output_type": "stream",
     "text": [
      "Got files\n"
     ]
    }
   ],
   "source": [
    "train_data_loader = DataLoader(\"train.csv\", 64)\n",
    "test_data = get_data(\"test.csv\")\n",
    "print(\"Got files\")"
   ]
  },
  {
   "cell_type": "code",
   "execution_count": null,
   "metadata": {},
   "outputs": [],
   "source": [
    "test_data_output"
   ]
  },
  {
   "cell_type": "code",
   "execution_count": 3,
   "metadata": {},
   "outputs": [],
   "source": [
    "import pandas as pd\n",
    "actual_targets=pd.read_csv(\"targets.csv\")\n",
    "actual_targets=actual_targets.values"
   ]
  },
  {
   "cell_type": "code",
   "execution_count": 15,
   "metadata": {},
   "outputs": [
    {
     "data": {
      "text/plain": [
       "0.92"
      ]
     },
     "execution_count": 15,
     "metadata": {},
     "output_type": "execute_result"
    }
   ],
   "source": [
    "np.sum(actual_targets[:,1]==test_data_output)/300"
   ]
  },
  {
   "cell_type": "code",
   "execution_count": 8,
   "metadata": {},
   "outputs": [],
   "source": [
    "import matplotlib.pyplot as plt"
   ]
  },
  {
   "cell_type": "code",
   "execution_count": 7,
   "metadata": {
    "scrolled": true
   },
   "outputs": [
    {
     "name": "stdout",
     "output_type": "stream",
     "text": [
      "Started training for c =  1\n"
     ]
    },
    {
     "ename": "TypeError",
     "evalue": "'numpy.ndarray' object is not callable",
     "output_type": "error",
     "traceback": [
      "\u001b[1;31m---------------------------------------------------------------------------\u001b[0m",
      "\u001b[1;31mTypeError\u001b[0m                                 Traceback (most recent call last)",
      "\u001b[1;32m<ipython-input-7-720732dc123e>\u001b[0m in \u001b[0;36m<module>\u001b[1;34m()\u001b[0m\n\u001b[0;32m      3\u001b[0m \u001b[1;32mfor\u001b[0m \u001b[0mc\u001b[0m \u001b[1;32min\u001b[0m \u001b[0mc_list\u001b[0m\u001b[1;33m:\u001b[0m\u001b[1;33m\u001b[0m\u001b[0m\n\u001b[0;32m      4\u001b[0m     \u001b[0mprint\u001b[0m\u001b[1;33m(\u001b[0m\u001b[1;34m\"Started training for c = \"\u001b[0m\u001b[1;33m,\u001b[0m\u001b[0mc\u001b[0m\u001b[1;33m)\u001b[0m\u001b[1;33m\u001b[0m\u001b[0m\n\u001b[1;32m----> 5\u001b[1;33m     \u001b[0mtrained_model_parameters\u001b[0m \u001b[1;33m=\u001b[0m \u001b[0mtrain\u001b[0m\u001b[1;33m(\u001b[0m\u001b[0mtrain_data_loader\u001b[0m\u001b[1;33m,\u001b[0m \u001b[1;34m\"square_hinge_loss\"\u001b[0m\u001b[1;33m,\u001b[0m \u001b[1;32mNone\u001b[0m\u001b[1;33m,\u001b[0m \u001b[1;36m1\u001b[0m\u001b[1;33m)\u001b[0m\u001b[1;33m\u001b[0m\u001b[0m\n\u001b[0m\u001b[0;32m      6\u001b[0m     \u001b[0mprint\u001b[0m\u001b[1;33m(\u001b[0m\u001b[1;34m\"Predicting outputs\"\u001b[0m\u001b[1;33m)\u001b[0m\u001b[1;33m\u001b[0m\u001b[0m\n\u001b[0;32m      7\u001b[0m     \u001b[0mtest_data_output\u001b[0m \u001b[1;33m=\u001b[0m \u001b[0mtest\u001b[0m\u001b[1;33m(\u001b[0m\u001b[0mtest_data\u001b[0m\u001b[1;33m,\u001b[0m \u001b[0mtrained_model_parameters\u001b[0m\u001b[1;33m)\u001b[0m\u001b[1;33m\u001b[0m\u001b[0m\n",
      "\u001b[1;32m<ipython-input-5-3f51a1d8565a>\u001b[0m in \u001b[0;36mtrain\u001b[1;34m(data_loader, loss_type, regularizer_type, loss_weight)\u001b[0m\n\u001b[0;32m    102\u001b[0m                                         \u001b[0mjac\u001b[0m\u001b[1;33m=\u001b[0m\u001b[0mgradient_function\u001b[0m\u001b[1;33m,\u001b[0m\u001b[1;33m\u001b[0m\u001b[0m\n\u001b[0;32m    103\u001b[0m                                         options={'disp': False,\n\u001b[1;32m--> 104\u001b[1;33m                                                  'maxiter': 1})\n\u001b[0m\u001b[0;32m    105\u001b[0m             \u001b[0mloss\u001b[0m\u001b[1;33m+=\u001b[0m\u001b[0mobjective_function\u001b[0m\u001b[1;33m(\u001b[0m\u001b[0mtrained_model_parameters\u001b[0m\u001b[1;33m.\u001b[0m\u001b[0mx\u001b[0m\u001b[1;33m)\u001b[0m\u001b[1;33m\u001b[0m\u001b[0m\n\u001b[0;32m    106\u001b[0m             \u001b[0mstart_parameters\u001b[0m\u001b[1;33m=\u001b[0m\u001b[0mtrained_model_parameters\u001b[0m\u001b[1;33m.\u001b[0m\u001b[0mx\u001b[0m\u001b[1;33m\u001b[0m\u001b[0m\n",
      "\u001b[1;32mc:\\users\\tezan\\appdata\\local\\programs\\python\\python37-32\\lib\\site-packages\\scipy\\optimize\\_minimize.py\u001b[0m in \u001b[0;36mminimize\u001b[1;34m(fun, x0, args, method, jac, hess, hessp, bounds, constraints, tol, callback, options)\u001b[0m\n\u001b[0;32m    593\u001b[0m         \u001b[1;32mreturn\u001b[0m \u001b[0m_minimize_powell\u001b[0m\u001b[1;33m(\u001b[0m\u001b[0mfun\u001b[0m\u001b[1;33m,\u001b[0m \u001b[0mx0\u001b[0m\u001b[1;33m,\u001b[0m \u001b[0margs\u001b[0m\u001b[1;33m,\u001b[0m \u001b[0mcallback\u001b[0m\u001b[1;33m,\u001b[0m \u001b[1;33m**\u001b[0m\u001b[0moptions\u001b[0m\u001b[1;33m)\u001b[0m\u001b[1;33m\u001b[0m\u001b[0m\n\u001b[0;32m    594\u001b[0m     \u001b[1;32melif\u001b[0m \u001b[0mmeth\u001b[0m \u001b[1;33m==\u001b[0m \u001b[1;34m'cg'\u001b[0m\u001b[1;33m:\u001b[0m\u001b[1;33m\u001b[0m\u001b[0m\n\u001b[1;32m--> 595\u001b[1;33m         \u001b[1;32mreturn\u001b[0m \u001b[0m_minimize_cg\u001b[0m\u001b[1;33m(\u001b[0m\u001b[0mfun\u001b[0m\u001b[1;33m,\u001b[0m \u001b[0mx0\u001b[0m\u001b[1;33m,\u001b[0m \u001b[0margs\u001b[0m\u001b[1;33m,\u001b[0m \u001b[0mjac\u001b[0m\u001b[1;33m,\u001b[0m \u001b[0mcallback\u001b[0m\u001b[1;33m,\u001b[0m \u001b[1;33m**\u001b[0m\u001b[0moptions\u001b[0m\u001b[1;33m)\u001b[0m\u001b[1;33m\u001b[0m\u001b[0m\n\u001b[0m\u001b[0;32m    596\u001b[0m     \u001b[1;32melif\u001b[0m \u001b[0mmeth\u001b[0m \u001b[1;33m==\u001b[0m \u001b[1;34m'bfgs'\u001b[0m\u001b[1;33m:\u001b[0m\u001b[1;33m\u001b[0m\u001b[0m\n\u001b[0;32m    597\u001b[0m         \u001b[1;32mreturn\u001b[0m \u001b[0m_minimize_bfgs\u001b[0m\u001b[1;33m(\u001b[0m\u001b[0mfun\u001b[0m\u001b[1;33m,\u001b[0m \u001b[0mx0\u001b[0m\u001b[1;33m,\u001b[0m \u001b[0margs\u001b[0m\u001b[1;33m,\u001b[0m \u001b[0mjac\u001b[0m\u001b[1;33m,\u001b[0m \u001b[0mcallback\u001b[0m\u001b[1;33m,\u001b[0m \u001b[1;33m**\u001b[0m\u001b[0moptions\u001b[0m\u001b[1;33m)\u001b[0m\u001b[1;33m\u001b[0m\u001b[0m\n",
      "\u001b[1;32mc:\\users\\tezan\\appdata\\local\\programs\\python\\python37-32\\lib\\site-packages\\scipy\\optimize\\optimize.py\u001b[0m in \u001b[0;36m_minimize_cg\u001b[1;34m(fun, x0, args, jac, callback, gtol, norm, eps, maxiter, disp, return_all, **unknown_options)\u001b[0m\n\u001b[0;32m   1263\u001b[0m     \u001b[1;32melse\u001b[0m\u001b[1;33m:\u001b[0m\u001b[1;33m\u001b[0m\u001b[0m\n\u001b[0;32m   1264\u001b[0m         \u001b[0mgrad_calls\u001b[0m\u001b[1;33m,\u001b[0m \u001b[0mmyfprime\u001b[0m \u001b[1;33m=\u001b[0m \u001b[0mwrap_function\u001b[0m\u001b[1;33m(\u001b[0m\u001b[0mfprime\u001b[0m\u001b[1;33m,\u001b[0m \u001b[0margs\u001b[0m\u001b[1;33m)\u001b[0m\u001b[1;33m\u001b[0m\u001b[0m\n\u001b[1;32m-> 1265\u001b[1;33m     \u001b[0mgfk\u001b[0m \u001b[1;33m=\u001b[0m \u001b[0mmyfprime\u001b[0m\u001b[1;33m(\u001b[0m\u001b[0mx0\u001b[0m\u001b[1;33m)\u001b[0m\u001b[1;33m\u001b[0m\u001b[0m\n\u001b[0m\u001b[0;32m   1266\u001b[0m     \u001b[0mk\u001b[0m \u001b[1;33m=\u001b[0m \u001b[1;36m0\u001b[0m\u001b[1;33m\u001b[0m\u001b[0m\n\u001b[0;32m   1267\u001b[0m     \u001b[0mxk\u001b[0m \u001b[1;33m=\u001b[0m \u001b[0mx0\u001b[0m\u001b[1;33m\u001b[0m\u001b[0m\n",
      "\u001b[1;32mc:\\users\\tezan\\appdata\\local\\programs\\python\\python37-32\\lib\\site-packages\\scipy\\optimize\\optimize.py\u001b[0m in \u001b[0;36mfunction_wrapper\u001b[1;34m(*wrapper_args)\u001b[0m\n\u001b[0;32m    291\u001b[0m     \u001b[1;32mdef\u001b[0m \u001b[0mfunction_wrapper\u001b[0m\u001b[1;33m(\u001b[0m\u001b[1;33m*\u001b[0m\u001b[0mwrapper_args\u001b[0m\u001b[1;33m)\u001b[0m\u001b[1;33m:\u001b[0m\u001b[1;33m\u001b[0m\u001b[0m\n\u001b[0;32m    292\u001b[0m         \u001b[0mncalls\u001b[0m\u001b[1;33m[\u001b[0m\u001b[1;36m0\u001b[0m\u001b[1;33m]\u001b[0m \u001b[1;33m+=\u001b[0m \u001b[1;36m1\u001b[0m\u001b[1;33m\u001b[0m\u001b[0m\n\u001b[1;32m--> 293\u001b[1;33m         \u001b[1;32mreturn\u001b[0m \u001b[0mfunction\u001b[0m\u001b[1;33m(\u001b[0m\u001b[1;33m*\u001b[0m\u001b[1;33m(\u001b[0m\u001b[0mwrapper_args\u001b[0m \u001b[1;33m+\u001b[0m \u001b[0margs\u001b[0m\u001b[1;33m)\u001b[0m\u001b[1;33m)\u001b[0m\u001b[1;33m\u001b[0m\u001b[0m\n\u001b[0m\u001b[0;32m    294\u001b[0m \u001b[1;33m\u001b[0m\u001b[0m\n\u001b[0;32m    295\u001b[0m     \u001b[1;32mreturn\u001b[0m \u001b[0mncalls\u001b[0m\u001b[1;33m,\u001b[0m \u001b[0mfunction_wrapper\u001b[0m\u001b[1;33m\u001b[0m\u001b[0m\n",
      "\u001b[1;32m<ipython-input-5-3f51a1d8565a>\u001b[0m in \u001b[0;36mgradient_function\u001b[1;34m(weights)\u001b[0m\n\u001b[0;32m     75\u001b[0m         \u001b[0moutputs\u001b[0m \u001b[1;33m=\u001b[0m \u001b[0mclassify\u001b[0m\u001b[1;33m(\u001b[0m\u001b[0mX\u001b[0m\u001b[1;33m,\u001b[0m\u001b[0mweights\u001b[0m\u001b[1;33m)\u001b[0m\u001b[1;33m\u001b[0m\u001b[0m\n\u001b[0;32m     76\u001b[0m         \u001b[1;31m# loss_grad_function is called from utils.py\u001b[0m\u001b[1;33m\u001b[0m\u001b[1;33m\u001b[0m\u001b[0m\n\u001b[1;32m---> 77\u001b[1;33m         \u001b[0mgradient\u001b[0m \u001b[1;33m=\u001b[0m \u001b[0mloss_weight\u001b[0m\u001b[1;33m*\u001b[0m\u001b[0mloss_grad_function\u001b[0m\u001b[1;33m(\u001b[0m\u001b[0mweights\u001b[0m\u001b[1;33m,\u001b[0m\u001b[0mX\u001b[0m\u001b[1;33m,\u001b[0m\u001b[0mY\u001b[0m\u001b[1;33m,\u001b[0m\u001b[0moutputs\u001b[0m\u001b[1;33m)\u001b[0m\u001b[1;33m/\u001b[0m\u001b[0mlen\u001b[0m\u001b[1;33m(\u001b[0m\u001b[0mtrainx\u001b[0m\u001b[1;33m)\u001b[0m\u001b[1;33m\u001b[0m\u001b[0m\n\u001b[0m\u001b[0;32m     78\u001b[0m         \u001b[1;32mif\u001b[0m \u001b[0mregularizer_type\u001b[0m \u001b[1;33m!=\u001b[0m \u001b[1;32mNone\u001b[0m\u001b[1;33m:\u001b[0m\u001b[1;33m\u001b[0m\u001b[0m\n\u001b[0;32m     79\u001b[0m             \u001b[1;31m# regulariser grad function is called from utils.py\u001b[0m\u001b[1;33m\u001b[0m\u001b[1;33m\u001b[0m\u001b[0m\n",
      "\u001b[1;32mC:\\Tezan\\IIT Bombay Resources\\IITB Courses\\CS 419\\CS419M_Group\\Assignment2_IML\\assgmt-2-toy dataset\\utils.py\u001b[0m in \u001b[0;36msquare_hinge_grad\u001b[1;34m(weights, inputs, targets, outputs)\u001b[0m\n\u001b[0;32m     35\u001b[0m   \u001b[1;32mfor\u001b[0m \u001b[0mi\u001b[0m \u001b[1;32min\u001b[0m \u001b[0mrange\u001b[0m\u001b[1;33m(\u001b[0m\u001b[0mlen\u001b[0m\u001b[1;33m(\u001b[0m\u001b[0mtargets\u001b[0m\u001b[1;33m)\u001b[0m\u001b[1;33m)\u001b[0m\u001b[1;33m:\u001b[0m\u001b[1;33m\u001b[0m\u001b[0m\n\u001b[0;32m     36\u001b[0m       \u001b[1;32mif\u001b[0m \u001b[0mfunc\u001b[0m\u001b[1;33m[\u001b[0m\u001b[0mi\u001b[0m\u001b[1;33m]\u001b[0m\u001b[1;33m<\u001b[0m\u001b[1;36m1\u001b[0m\u001b[1;33m:\u001b[0m\u001b[1;33m\u001b[0m\u001b[0m\n\u001b[1;32m---> 37\u001b[1;33m           \u001b[0mgrad\u001b[0m\u001b[1;33m[\u001b[0m\u001b[1;33m:\u001b[0m\u001b[1;33m-\u001b[0m\u001b[1;36m1\u001b[0m\u001b[1;33m]\u001b[0m\u001b[1;33m=\u001b[0m\u001b[0mgrad\u001b[0m\u001b[1;33m[\u001b[0m\u001b[1;33m:\u001b[0m\u001b[1;33m-\u001b[0m\u001b[1;36m1\u001b[0m\u001b[1;33m]\u001b[0m \u001b[1;33m-\u001b[0m \u001b[1;36m2\u001b[0m\u001b[1;33m*\u001b[0m\u001b[0mtargets\u001b[0m\u001b[1;33m[\u001b[0m\u001b[0mi\u001b[0m\u001b[1;33m]\u001b[0m\u001b[1;33m*\u001b[0m\u001b[0minputs\u001b[0m\u001b[1;33m[\u001b[0m\u001b[0mi\u001b[0m\u001b[1;33m]\u001b[0m\u001b[1;33m[\u001b[0m\u001b[1;33m:\u001b[0m\u001b[1;33m-\u001b[0m\u001b[1;36m1\u001b[0m\u001b[1;33m]\u001b[0m\u001b[1;33m*\u001b[0m\u001b[1;33m(\u001b[0m\u001b[1;36m1\u001b[0m\u001b[1;33m-\u001b[0m\u001b[0mfunc\u001b[0m\u001b[1;33m[\u001b[0m\u001b[0mi\u001b[0m\u001b[1;33m]\u001b[0m\u001b[1;33m)\u001b[0m\u001b[1;33m\u001b[0m\u001b[0m\n\u001b[0m\u001b[0;32m     38\u001b[0m           \u001b[0mgrad\u001b[0m\u001b[1;33m[\u001b[0m\u001b[1;33m-\u001b[0m\u001b[1;36m1\u001b[0m\u001b[1;33m]\u001b[0m\u001b[1;33m=\u001b[0m\u001b[0mgrad\u001b[0m\u001b[1;33m[\u001b[0m\u001b[1;33m-\u001b[0m\u001b[1;36m1\u001b[0m\u001b[1;33m]\u001b[0m\u001b[1;33m-\u001b[0m\u001b[1;36m2\u001b[0m\u001b[1;33m*\u001b[0m\u001b[0mtargets\u001b[0m\u001b[1;33m[\u001b[0m\u001b[0mi\u001b[0m\u001b[1;33m]\u001b[0m\u001b[1;33m*\u001b[0m\u001b[1;33m(\u001b[0m\u001b[1;36m1\u001b[0m\u001b[1;33m-\u001b[0m\u001b[0mfunc\u001b[0m\u001b[1;33m[\u001b[0m\u001b[0mi\u001b[0m\u001b[1;33m]\u001b[0m\u001b[1;33m)\u001b[0m\u001b[1;33m\u001b[0m\u001b[0m\n\u001b[0;32m     39\u001b[0m   \u001b[1;32mreturn\u001b[0m \u001b[0mgrad\u001b[0m\u001b[1;33m\u001b[0m\u001b[0m\n",
      "\u001b[1;31mTypeError\u001b[0m: 'numpy.ndarray' object is not callable"
     ]
    }
   ],
   "source": [
    "accuracies=[]\n",
    "c_list=[1]\n",
    "for c in c_list:\n",
    "    print(\"Started training for c = \",c)\n",
    "    trained_model_parameters = train(train_data_loader, \"square_hinge_loss\", None, 1)\n",
    "    print(\"Predicting outputs\")\n",
    "    test_data_output = test(test_data, trained_model_parameters)\n",
    "    accuracies.append(np.sum(actual_targets[:,1]==test_data_output)/300)"
   ]
  },
  {
   "cell_type": "code",
   "execution_count": null,
   "metadata": {},
   "outputs": [],
   "source": []
  },
  {
   "cell_type": "code",
   "execution_count": 5,
   "metadata": {},
   "outputs": [
    {
     "data": {
      "text/plain": [
       "[]"
      ]
     },
     "execution_count": 5,
     "metadata": {},
     "output_type": "execute_result"
    }
   ],
   "source": [
    "accuracies"
   ]
  },
  {
   "cell_type": "code",
   "execution_count": 9,
   "metadata": {},
   "outputs": [
    {
     "data": {
      "text/plain": [
       "[<matplotlib.lines.Line2D at 0x5aa7070>]"
      ]
     },
     "execution_count": 9,
     "metadata": {},
     "output_type": "execute_result"
    },
    {
     "data": {
      "image/png": "[encoded data removed]",
      "text/plain": [
       "<Figure size 432x288 with 1 Axes>"
      ]
     },
     "metadata": {},
     "output_type": "display_data"
    }
   ],
   "source": [
    "plt.xscale('log')\n",
    "plt.plot(c_list,accuracies)"
   ]
  },
  {
   "cell_type": "markdown",
   "metadata": {},
   "source": [
    "## Perceptron Loss with L4 regularization: best accuracy at c=1 (0.937)"
   ]
  },
  {
   "cell_type": "code",
   "execution_count": null,
   "metadata": {},
   "outputs": [],
   "source": []
  }
 ],
 "metadata": {
  "kernelspec": {
   "display_name": "Python 3",
   "language": "python",
   "name": "python3"
  },
  "language_info": {
   "codemirror_mode": {
    "name": "ipython",
    "version": 3
   },
   "file_extension": ".py",
   "mimetype": "text/x-python",
   "name": "python",
   "nbconvert_exporter": "python",
   "pygments_lexer": "ipython3",
   "version": "3.7.0"
  }
 },
 "nbformat": 4,
 "nbformat_minor": 2
}
